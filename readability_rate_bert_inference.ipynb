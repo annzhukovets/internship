{
 "cells": [
  {
   "cell_type": "code",
   "execution_count": 1,
   "id": "legendary-storm",
   "metadata": {
    "_cell_guid": "b1076dfc-b9ad-4769-8c92-a6c4dae69d19",
    "_uuid": "8f2839f25d086af736a60e9eeb907d3b93b6e0e5",
    "execution": {
     "iopub.execute_input": "2021-06-30T09:20:35.012457Z",
     "iopub.status.busy": "2021-06-30T09:20:35.011784Z",
     "iopub.status.idle": "2021-06-30T09:20:46.859526Z",
     "shell.execute_reply": "2021-06-30T09:20:46.858502Z",
     "shell.execute_reply.started": "2021-06-30T07:07:32.058936Z"
    },
    "papermill": {
     "duration": 11.885026,
     "end_time": "2021-06-30T09:20:46.859702",
     "exception": false,
     "start_time": "2021-06-30T09:20:34.974676",
     "status": "completed"
    },
    "tags": []
   },
   "outputs": [],
   "source": [
    "import string\n",
    "import copy\n",
    "import time\n",
    "%matplotlib inline\n",
    "import os\n",
    "# os.listdir(\"../input/\")\n",
    "import torch\n",
    "import torch.nn as nn\n",
    "import pandas as pd\n",
    "import numpy as np\n",
    "os.system('pip install pytorch_pretrained_bert --no-index --find-links=\"../input/pytorch-pretrained-bert/pytorch_pretrained_bert\" ')\n",
    "from torch.utils.data import Dataset, TensorDataset, DataLoader, RandomSampler, SequentialSampler\n",
    "from transformers.models.bert.modeling_bert import BertPreTrainedModel, BertModel\n",
    "from transformers import BertTokenizer\n",
    "from transformers import BertForSequenceClassification, AdamW, BertConfig\n",
    "import random\n",
    "from transformers import get_linear_schedule_with_warmup\n",
    "from torch.cuda.amp import GradScaler, autocast\n",
    "import warnings\n",
    "warnings.filterwarnings(\"ignore\")\n",
    "import matplotlib.pyplot as plt\n",
    "from torch.utils.tensorboard import SummaryWriter\n",
    "\n",
    "SEED = 42\n",
    "BATCH_SIZE = 32\n",
    "MAX_LENGTH = 356\n",
    "BERT_FP = '../input/bert-base-uncased'\n",
    "device = torch.device(\"cuda\" if torch.cuda.is_available() else \"cpu\")\n",
    "n_gpu = torch.cuda.device_count()\n",
    "\n",
    "random.seed(SEED)\n",
    "np.random.seed(SEED)\n",
    "torch.manual_seed(SEED)\n",
    "if n_gpu > 0:\n",
    "    torch.cuda.manual_seed_all(SEED)"
   ]
  },
  {
   "cell_type": "code",
   "execution_count": 2,
   "id": "standing-somerset",
   "metadata": {
    "execution": {
     "iopub.execute_input": "2021-06-30T09:20:46.903767Z",
     "iopub.status.busy": "2021-06-30T09:20:46.902103Z",
     "iopub.status.idle": "2021-06-30T09:20:46.904406Z",
     "shell.execute_reply": "2021-06-30T09:20:46.904816Z",
     "shell.execute_reply.started": "2021-06-30T07:07:36.882281Z"
    },
    "papermill": {
     "duration": 0.026484,
     "end_time": "2021-06-30T09:20:46.904953",
     "exception": false,
     "start_time": "2021-06-30T09:20:46.878469",
     "status": "completed"
    },
    "tags": []
   },
   "outputs": [],
   "source": [
    "import datetime\n",
    "\n",
    "def format_time(elapsed):\n",
    "    '''\n",
    "    Takes a time in seconds and returns a string hh:mm:ss\n",
    "    '''\n",
    "    # Round to the nearest second.\n",
    "    elapsed_rounded = int(round((elapsed)))\n",
    "    \n",
    "    # Format as hh:mm:ss\n",
    "    return str(datetime.timedelta(seconds=elapsed_rounded))"
   ]
  },
  {
   "cell_type": "code",
   "execution_count": 3,
   "id": "essential-railway",
   "metadata": {
    "execution": {
     "iopub.execute_input": "2021-06-30T09:20:46.949958Z",
     "iopub.status.busy": "2021-06-30T09:20:46.948592Z",
     "iopub.status.idle": "2021-06-30T09:20:46.951373Z",
     "shell.execute_reply": "2021-06-30T09:20:46.950955Z",
     "shell.execute_reply.started": "2021-06-30T07:07:36.890447Z"
    },
    "papermill": {
     "duration": 0.02804,
     "end_time": "2021-06-30T09:20:46.951490",
     "exception": false,
     "start_time": "2021-06-30T09:20:46.923450",
     "status": "completed"
    },
    "tags": []
   },
   "outputs": [],
   "source": [
    "def children(m):\n",
    "    return m if isinstance(m, (list, tuple)) else list(m.children())\n",
    "\n",
    "\n",
    "def set_trainable_attr(m, b):\n",
    "    m.trainable = b\n",
    "    for p in m.parameters():\n",
    "        p.requires_grad = b\n",
    "\n",
    "\n",
    "def apply_leaf(m, f):\n",
    "    c = children(m)\n",
    "    if isinstance(m, nn.Module):\n",
    "        f(m)\n",
    "    if len(c) > 0:\n",
    "        for l in c:\n",
    "            apply_leaf(l, f)\n",
    "\n",
    "\n",
    "def set_trainable(l, b):\n",
    "    apply_leaf(l, lambda m: set_trainable_attr(m, b))"
   ]
  },
  {
   "cell_type": "code",
   "execution_count": 4,
   "id": "classified-favorite",
   "metadata": {
    "execution": {
     "iopub.execute_input": "2021-06-30T09:20:46.996476Z",
     "iopub.status.busy": "2021-06-30T09:20:46.995816Z",
     "iopub.status.idle": "2021-06-30T09:20:46.999041Z",
     "shell.execute_reply": "2021-06-30T09:20:46.998603Z",
     "shell.execute_reply.started": "2021-06-30T07:07:36.901578Z"
    },
    "papermill": {
     "duration": 0.02824,
     "end_time": "2021-06-30T09:20:46.999158",
     "exception": false,
     "start_time": "2021-06-30T09:20:46.970918",
     "status": "completed"
    },
    "tags": []
   },
   "outputs": [],
   "source": [
    "class BertForSequenceRegression(nn.Module):\n",
    "    def __init__(self):\n",
    "        super(BertForSequenceRegression, self).__init__()\n",
    "        self.bert = BertModel.from_pretrained(BERT_FP)\n",
    "        self.dropout = nn.Dropout(0.1)\n",
    "        self.linear1 = nn.Linear(768, 256)\n",
    "        self.relu = nn.ReLU()\n",
    "        self.linear2 = nn.Linear(256, 1)\n",
    "\n",
    "    def forward(self, ids,  token_type_ids, attention_mask):\n",
    "        _, pooled_output = self.bert(ids, token_type_ids, attention_mask, return_dict=False)\n",
    "        pooled_output = self.dropout(pooled_output)\n",
    "        pooled_output = self.linear1(pooled_output)\n",
    "        pooled_output = self.relu(pooled_output)\n",
    "        outputs = self.linear2(pooled_output)\n",
    "        return outputs.view(-1)"
   ]
  },
  {
   "cell_type": "code",
   "execution_count": 5,
   "id": "north-breathing",
   "metadata": {
    "execution": {
     "iopub.execute_input": "2021-06-30T09:20:47.040814Z",
     "iopub.status.busy": "2021-06-30T09:20:47.040240Z",
     "iopub.status.idle": "2021-06-30T09:20:47.043944Z",
     "shell.execute_reply": "2021-06-30T09:20:47.044305Z",
     "shell.execute_reply.started": "2021-06-30T07:07:36.912415Z"
    },
    "papermill": {
     "duration": 0.026918,
     "end_time": "2021-06-30T09:20:47.044466",
     "exception": false,
     "start_time": "2021-06-30T09:20:47.017548",
     "status": "completed"
    },
    "tags": []
   },
   "outputs": [],
   "source": [
    "def RMSELoss(outputs, targets):\n",
    "    return torch.sqrt(nn.MSELoss()(outputs, targets))"
   ]
  },
  {
   "cell_type": "code",
   "execution_count": 6,
   "id": "preceding-broad",
   "metadata": {
    "execution": {
     "iopub.execute_input": "2021-06-30T09:20:47.089742Z",
     "iopub.status.busy": "2021-06-30T09:20:47.089080Z",
     "iopub.status.idle": "2021-06-30T09:20:47.691544Z",
     "shell.execute_reply": "2021-06-30T09:20:47.691086Z",
     "shell.execute_reply.started": "2021-06-30T07:07:36.926188Z"
    },
    "papermill": {
     "duration": 0.628611,
     "end_time": "2021-06-30T09:20:47.691671",
     "exception": false,
     "start_time": "2021-06-30T09:20:47.063060",
     "status": "completed"
    },
    "tags": []
   },
   "outputs": [],
   "source": [
    "from sklearn.model_selection import RepeatedStratifiedKFold\n",
    "from sklearn.preprocessing import KBinsDiscretizer\n",
    "\n",
    "class regressor_stratified_cv:\n",
    "    def __init__(self, n_splits = 10, n_repeats = 2, group_count = 10,\n",
    "                 random_state = 0, strategy = 'quantile'):\n",
    "        self.group_count = group_count\n",
    "        self.strategy = strategy\n",
    "        self.cvkwargs = dict(n_splits = n_splits, n_repeats = n_repeats, \n",
    "                             random_state = random_state)\n",
    "        self.cv = RepeatedStratifiedKFold(**self.cvkwargs)\n",
    "        self.discretizer = KBinsDiscretizer(n_bins = self.group_count, encode = 'ordinal',\n",
    "                                            strategy = self.strategy)  \n",
    "            \n",
    "    def split(self, X, y, groups = None):\n",
    "        kgroups=self.discretizer.fit_transform(y[:, None])[:, 0]\n",
    "        return self.cv.split(X, kgroups, groups)\n",
    "    \n",
    "    def get_n_splits(self, X, y, groups = None):\n",
    "        return self.cv.get_n_splits(X, y, groups)"
   ]
  },
  {
   "cell_type": "code",
   "execution_count": 7,
   "id": "funded-harvey",
   "metadata": {
    "execution": {
     "iopub.execute_input": "2021-06-30T09:20:47.733740Z",
     "iopub.status.busy": "2021-06-30T09:20:47.732867Z",
     "iopub.status.idle": "2021-06-30T09:20:47.735437Z",
     "shell.execute_reply": "2021-06-30T09:20:47.735033Z",
     "shell.execute_reply.started": "2021-06-30T07:07:36.936706Z"
    },
    "papermill": {
     "duration": 0.025255,
     "end_time": "2021-06-30T09:20:47.735550",
     "exception": false,
     "start_time": "2021-06-30T09:20:47.710295",
     "status": "completed"
    },
    "tags": []
   },
   "outputs": [],
   "source": [
    "def text_preprocessing(excerpt):\n",
    "    \n",
    "    # lower casing\n",
    "    excerpt = excerpt.lower()\n",
    "\n",
    "    # removal of punctuation\n",
    "    excerpt = excerpt.translate(str.maketrans('', '', string.punctuation))\n",
    "\n",
    "        \n",
    "    # removal of stopwords\n",
    "#     from nltk.corpus import stopwords\n",
    "#     \", \".join(stopwords.words('english'))\n",
    "#     STOPWORDS = set(stopwords.words('english'))\n",
    "#     excerpt = \" \".join([word for word in str(excerpt).split() if word not in STOPWORDS])\n",
    "        \n",
    "    # lemmatization \n",
    "#     from nltk.stem import WordNetLemmatizer\n",
    "#     lemmatizer = WordNetLemmatizer()\n",
    "#     excerpt = \" \".join([lemmatizer.lemmatize(word) for word in excerpt.split()])\n",
    "        \n",
    "                \n",
    "    return excerpt"
   ]
  },
  {
   "cell_type": "code",
   "execution_count": 8,
   "id": "general-glenn",
   "metadata": {
    "execution": {
     "iopub.execute_input": "2021-06-30T09:20:47.774936Z",
     "iopub.status.busy": "2021-06-30T09:20:47.774311Z",
     "iopub.status.idle": "2021-06-30T09:20:47.822900Z",
     "shell.execute_reply": "2021-06-30T09:20:47.822380Z",
     "shell.execute_reply.started": "2021-06-30T07:07:36.946636Z"
    },
    "papermill": {
     "duration": 0.06951,
     "end_time": "2021-06-30T09:20:47.823035",
     "exception": false,
     "start_time": "2021-06-30T09:20:47.753525",
     "status": "completed"
    },
    "tags": []
   },
   "outputs": [],
   "source": [
    "# Load the BERT tokenizer.\n",
    "tokenizer = BertTokenizer.from_pretrained(BERT_FP, do_lower_case=True)"
   ]
  },
  {
   "cell_type": "code",
   "execution_count": 9,
   "id": "daily-prefix",
   "metadata": {
    "execution": {
     "iopub.execute_input": "2021-06-30T09:20:47.869328Z",
     "iopub.status.busy": "2021-06-30T09:20:47.868485Z",
     "iopub.status.idle": "2021-06-30T09:20:47.870986Z",
     "shell.execute_reply": "2021-06-30T09:20:47.870570Z",
     "shell.execute_reply.started": "2021-06-30T07:07:36.996195Z"
    },
    "papermill": {
     "duration": 0.029503,
     "end_time": "2021-06-30T09:20:47.871100",
     "exception": false,
     "start_time": "2021-06-30T09:20:47.841597",
     "status": "completed"
    },
    "tags": []
   },
   "outputs": [],
   "source": [
    "class TokenDataset(Dataset):\n",
    "    def __init__(self, tokenizer, text, target = None, is_test=False):\n",
    "        self.text = text\n",
    "        self.target = target\n",
    "        self.is_test = is_test\n",
    "        self.max_len = MAX_LENGTH\n",
    "        self.tokenizer = tokenizer\n",
    "        \n",
    "    def __len__(self):\n",
    "        return len(self.text)\n",
    "    \n",
    "    def __getitem__(self, idx):\n",
    "        text = str(self.text[idx])\n",
    "        text = ' '.join(text.split())\n",
    "        inputs = self.tokenizer.encode_plus(\n",
    "            text,\n",
    "            None,\n",
    "            truncation=True,\n",
    "            add_special_tokens=True,\n",
    "            max_length = self.max_len,\n",
    "            padding='max_length',\n",
    "            return_token_type_ids=True\n",
    "        )\n",
    "        ids = torch.tensor(inputs['input_ids'], dtype=torch.long)\n",
    "        mask = torch.tensor(inputs['attention_mask'], dtype=torch.long)\n",
    "        token_type_ids = torch.tensor(inputs['token_type_ids'], dtype=torch.long)\n",
    "        \n",
    "        if self.is_test:\n",
    "            return {\n",
    "                'ids': ids,\n",
    "                'mask': mask,\n",
    "                'token_type_ids': token_type_ids,\n",
    "            }\n",
    "        else:    \n",
    "            targets = torch.tensor(self.target[idx], dtype=torch.float)\n",
    "            return {\n",
    "                'ids': ids,\n",
    "                'mask': mask,\n",
    "                'token_type_ids': token_type_ids,\n",
    "                'targets': targets\n",
    "            }"
   ]
  },
  {
   "cell_type": "code",
   "execution_count": 10,
   "id": "adult-middle",
   "metadata": {
    "execution": {
     "iopub.execute_input": "2021-06-30T09:20:47.916035Z",
     "iopub.status.busy": "2021-06-30T09:20:47.915469Z",
     "iopub.status.idle": "2021-06-30T09:20:47.926556Z",
     "shell.execute_reply": "2021-06-30T09:20:47.926102Z",
     "shell.execute_reply.started": "2021-06-30T07:07:37.007367Z"
    },
    "papermill": {
     "duration": 0.034993,
     "end_time": "2021-06-30T09:20:47.926671",
     "exception": false,
     "start_time": "2021-06-30T09:20:47.891678",
     "status": "completed"
    },
    "tags": []
   },
   "outputs": [],
   "source": [
    "test = pd.read_csv('../input/commonlitreadabilityprize/test.csv')"
   ]
  },
  {
   "cell_type": "code",
   "execution_count": 11,
   "id": "driving-daisy",
   "metadata": {
    "execution": {
     "iopub.execute_input": "2021-06-30T09:20:47.972229Z",
     "iopub.status.busy": "2021-06-30T09:20:47.971496Z",
     "iopub.status.idle": "2021-06-30T09:20:47.974244Z",
     "shell.execute_reply": "2021-06-30T09:20:47.973736Z",
     "shell.execute_reply.started": "2021-06-30T07:07:37.025509Z"
    },
    "papermill": {
     "duration": 0.029092,
     "end_time": "2021-06-30T09:20:47.974366",
     "exception": false,
     "start_time": "2021-06-30T09:20:47.945274",
     "status": "completed"
    },
    "tags": []
   },
   "outputs": [],
   "source": [
    "test[\"text\"] = test[\"excerpt\"].apply(lambda x: text_preprocessing(x))"
   ]
  },
  {
   "cell_type": "code",
   "execution_count": 12,
   "id": "solar-valuation",
   "metadata": {
    "execution": {
     "iopub.execute_input": "2021-06-30T09:20:48.015478Z",
     "iopub.status.busy": "2021-06-30T09:20:48.014614Z",
     "iopub.status.idle": "2021-06-30T09:20:48.016779Z",
     "shell.execute_reply": "2021-06-30T09:20:48.017185Z",
     "shell.execute_reply.started": "2021-06-30T07:07:37.036366Z"
    },
    "papermill": {
     "duration": 0.024881,
     "end_time": "2021-06-30T09:20:48.017321",
     "exception": false,
     "start_time": "2021-06-30T09:20:47.992440",
     "status": "completed"
    },
    "tags": []
   },
   "outputs": [],
   "source": [
    "excerpts = test.text.values"
   ]
  },
  {
   "cell_type": "code",
   "execution_count": 13,
   "id": "antique-friendly",
   "metadata": {
    "execution": {
     "iopub.execute_input": "2021-06-30T09:20:48.062597Z",
     "iopub.status.busy": "2021-06-30T09:20:48.061711Z",
     "iopub.status.idle": "2021-06-30T09:20:48.064399Z",
     "shell.execute_reply": "2021-06-30T09:20:48.063994Z",
     "shell.execute_reply.started": "2021-06-30T07:07:37.045503Z"
    },
    "papermill": {
     "duration": 0.027937,
     "end_time": "2021-06-30T09:20:48.064518",
     "exception": false,
     "start_time": "2021-06-30T09:20:48.036581",
     "status": "completed"
    },
    "tags": []
   },
   "outputs": [],
   "source": [
    "test_data = test[['text']]"
   ]
  },
  {
   "cell_type": "code",
   "execution_count": 14,
   "id": "infectious-census",
   "metadata": {
    "execution": {
     "iopub.execute_input": "2021-06-30T09:20:48.105779Z",
     "iopub.status.busy": "2021-06-30T09:20:48.104997Z",
     "iopub.status.idle": "2021-06-30T09:20:48.107272Z",
     "shell.execute_reply": "2021-06-30T09:20:48.107635Z",
     "shell.execute_reply.started": "2021-06-30T07:07:37.057816Z"
    },
    "papermill": {
     "duration": 0.02522,
     "end_time": "2021-06-30T09:20:48.107795",
     "exception": false,
     "start_time": "2021-06-30T09:20:48.082575",
     "status": "completed"
    },
    "tags": []
   },
   "outputs": [],
   "source": [
    "test_set = TokenDataset(tokenizer,\n",
    "                        text = test_data['text'].values, is_test = True\n",
    "                        )"
   ]
  },
  {
   "cell_type": "code",
   "execution_count": 15,
   "id": "cardiac-phase",
   "metadata": {
    "execution": {
     "iopub.execute_input": "2021-06-30T09:20:48.148467Z",
     "iopub.status.busy": "2021-06-30T09:20:48.147635Z",
     "iopub.status.idle": "2021-06-30T09:20:48.150004Z",
     "shell.execute_reply": "2021-06-30T09:20:48.150380Z",
     "shell.execute_reply.started": "2021-06-30T07:07:37.067455Z"
    },
    "papermill": {
     "duration": 0.024475,
     "end_time": "2021-06-30T09:20:48.150519",
     "exception": false,
     "start_time": "2021-06-30T09:20:48.126044",
     "status": "completed"
    },
    "tags": []
   },
   "outputs": [],
   "source": [
    "test_dataloader = DataLoader(test_set, batch_size = BATCH_SIZE, num_workers=8)"
   ]
  },
  {
   "cell_type": "code",
   "execution_count": 16,
   "id": "fatty-inquiry",
   "metadata": {
    "execution": {
     "iopub.execute_input": "2021-06-30T09:20:48.189939Z",
     "iopub.status.busy": "2021-06-30T09:20:48.189390Z",
     "iopub.status.idle": "2021-06-30T09:20:59.523926Z",
     "shell.execute_reply": "2021-06-30T09:20:59.523399Z",
     "shell.execute_reply.started": "2021-06-30T07:07:37.078156Z"
    },
    "papermill": {
     "duration": 11.355583,
     "end_time": "2021-06-30T09:20:59.524060",
     "exception": false,
     "start_time": "2021-06-30T09:20:48.168477",
     "status": "completed"
    },
    "tags": []
   },
   "outputs": [],
   "source": [
    "model = BertForSequenceRegression().to(device)"
   ]
  },
  {
   "cell_type": "code",
   "execution_count": 17,
   "id": "desperate-raleigh",
   "metadata": {
    "execution": {
     "iopub.execute_input": "2021-06-30T09:20:59.571073Z",
     "iopub.status.busy": "2021-06-30T09:20:59.570158Z",
     "iopub.status.idle": "2021-06-30T09:20:59.572855Z",
     "shell.execute_reply": "2021-06-30T09:20:59.572405Z",
     "shell.execute_reply.started": "2021-06-30T07:07:39.695063Z"
    },
    "papermill": {
     "duration": 0.028753,
     "end_time": "2021-06-30T09:20:59.572982",
     "exception": false,
     "start_time": "2021-06-30T09:20:59.544229",
     "status": "completed"
    },
    "tags": []
   },
   "outputs": [],
   "source": [
    "def predicting(test_dataloader, model, states):\n",
    "\n",
    "    all_preds = []\n",
    "    \n",
    "    for state in states:\n",
    "        model.load_state_dict(state)\n",
    "        model.to(device)\n",
    "        model.eval()\n",
    "    \n",
    "    \n",
    "        preds = []\n",
    "        with torch.no_grad():\n",
    "            for batch in test_dataloader:\n",
    "                ids = batch['ids'].to(device, dtype=torch.long)\n",
    "                input_mask = batch['mask'].to(device, dtype=torch.long)\n",
    "                type_ids = batch['token_type_ids'].to(device, dtype=torch.long)\n",
    "                output = model(ids,input_mask,type_ids)\n",
    "                preds.append(output.cpu().numpy())\n",
    "\n",
    "            preds = np.concatenate(preds)\n",
    "            \n",
    "            all_preds.append(preds)\n",
    "\n",
    "    return all_preds"
   ]
  },
  {
   "cell_type": "code",
   "execution_count": 18,
   "id": "micro-walter",
   "metadata": {
    "execution": {
     "iopub.execute_input": "2021-06-30T09:20:59.615280Z",
     "iopub.status.busy": "2021-06-30T09:20:59.614492Z",
     "iopub.status.idle": "2021-06-30T09:20:59.617291Z",
     "shell.execute_reply": "2021-06-30T09:20:59.616872Z",
     "shell.execute_reply.started": "2021-06-30T07:07:39.704192Z"
    },
    "papermill": {
     "duration": 0.025372,
     "end_time": "2021-06-30T09:20:59.617420",
     "exception": false,
     "start_time": "2021-06-30T09:20:59.592048",
     "status": "completed"
    },
    "tags": []
   },
   "outputs": [],
   "source": [
    "pathes = ['../input/model-1-063/model_epoch_6_loss_0.63.pt', \n",
    "          '../input/model-2-0628/model_epoch_5_loss_0.628.pt',\n",
    "          '../input/model-3-0624/model_epoch_4_loss_0.624.pt',\n",
    "          '../input/model-4-0626/model_epoch_6_loss_0.626.pt',\n",
    "          '../input/model-5-064/model_epoch_5_loss_0.64.pt']"
   ]
  },
  {
   "cell_type": "code",
   "execution_count": 19,
   "id": "adaptive-typing",
   "metadata": {
    "execution": {
     "iopub.execute_input": "2021-06-30T09:20:59.659071Z",
     "iopub.status.busy": "2021-06-30T09:20:59.658511Z",
     "iopub.status.idle": "2021-06-30T09:21:16.019894Z",
     "shell.execute_reply": "2021-06-30T09:21:16.018939Z",
     "shell.execute_reply.started": "2021-06-30T07:07:39.716604Z"
    },
    "papermill": {
     "duration": 16.38347,
     "end_time": "2021-06-30T09:21:16.020050",
     "exception": false,
     "start_time": "2021-06-30T09:20:59.636580",
     "status": "completed"
    },
    "tags": []
   },
   "outputs": [],
   "source": [
    "states = [torch.load(s) for s in pathes]"
   ]
  },
  {
   "cell_type": "code",
   "execution_count": 20,
   "id": "retained-quantity",
   "metadata": {
    "execution": {
     "iopub.execute_input": "2021-06-30T09:21:16.070227Z",
     "iopub.status.busy": "2021-06-30T09:21:16.069655Z",
     "iopub.status.idle": "2021-06-30T09:21:19.393315Z",
     "shell.execute_reply": "2021-06-30T09:21:19.393700Z",
     "shell.execute_reply.started": "2021-06-30T07:07:41.210563Z"
    },
    "papermill": {
     "duration": 3.354313,
     "end_time": "2021-06-30T09:21:19.393894",
     "exception": false,
     "start_time": "2021-06-30T09:21:16.039581",
     "status": "completed"
    },
    "tags": []
   },
   "outputs": [],
   "source": [
    "all_preds = predicting(test_dataloader,model,states)"
   ]
  },
  {
   "cell_type": "code",
   "execution_count": 21,
   "id": "small-bobby",
   "metadata": {
    "execution": {
     "iopub.execute_input": "2021-06-30T09:21:19.438250Z",
     "iopub.status.busy": "2021-06-30T09:21:19.437592Z",
     "iopub.status.idle": "2021-06-30T09:21:19.441445Z",
     "shell.execute_reply": "2021-06-30T09:21:19.441821Z",
     "shell.execute_reply.started": "2021-06-30T07:07:44.298151Z"
    },
    "papermill": {
     "duration": 0.029434,
     "end_time": "2021-06-30T09:21:19.441959",
     "exception": false,
     "start_time": "2021-06-30T09:21:19.412525",
     "status": "completed"
    },
    "tags": []
   },
   "outputs": [],
   "source": [
    "predictions = pd.DataFrame(all_preds)\n",
    "predictions = predictions.T"
   ]
  },
  {
   "cell_type": "code",
   "execution_count": 22,
   "id": "bridal-northern",
   "metadata": {
    "execution": {
     "iopub.execute_input": "2021-06-30T09:21:19.484665Z",
     "iopub.status.busy": "2021-06-30T09:21:19.483398Z",
     "iopub.status.idle": "2021-06-30T09:21:19.486117Z",
     "shell.execute_reply": "2021-06-30T09:21:19.485696Z",
     "shell.execute_reply.started": "2021-06-30T07:07:44.329006Z"
    },
    "papermill": {
     "duration": 0.025912,
     "end_time": "2021-06-30T09:21:19.486231",
     "exception": false,
     "start_time": "2021-06-30T09:21:19.460319",
     "status": "completed"
    },
    "tags": []
   },
   "outputs": [],
   "source": [
    "predictions = predictions.mean(axis=1)"
   ]
  },
  {
   "cell_type": "code",
   "execution_count": 23,
   "id": "administrative-spanish",
   "metadata": {
    "execution": {
     "iopub.execute_input": "2021-06-30T09:21:19.527890Z",
     "iopub.status.busy": "2021-06-30T09:21:19.527348Z",
     "iopub.status.idle": "2021-06-30T09:21:19.530938Z",
     "shell.execute_reply": "2021-06-30T09:21:19.531298Z",
     "shell.execute_reply.started": "2021-06-30T07:07:44.336184Z"
    },
    "papermill": {
     "duration": 0.026834,
     "end_time": "2021-06-30T09:21:19.531442",
     "exception": false,
     "start_time": "2021-06-30T09:21:19.504608",
     "status": "completed"
    },
    "tags": []
   },
   "outputs": [],
   "source": [
    "submission = pd.DataFrame({'id':test['id'],'target':predictions})"
   ]
  },
  {
   "cell_type": "code",
   "execution_count": 24,
   "id": "central-holly",
   "metadata": {
    "execution": {
     "iopub.execute_input": "2021-06-30T09:21:19.576362Z",
     "iopub.status.busy": "2021-06-30T09:21:19.575489Z",
     "iopub.status.idle": "2021-06-30T09:21:19.709958Z",
     "shell.execute_reply": "2021-06-30T09:21:19.709462Z",
     "shell.execute_reply.started": "2021-06-30T07:07:44.345672Z"
    },
    "papermill": {
     "duration": 0.158758,
     "end_time": "2021-06-30T09:21:19.710096",
     "exception": false,
     "start_time": "2021-06-30T09:21:19.551338",
     "status": "completed"
    },
    "tags": []
   },
   "outputs": [],
   "source": [
    "submission.to_csv('submission.csv',index=False)"
   ]
  },
  {
   "cell_type": "code",
   "execution_count": 25,
   "id": "linear-membrane",
   "metadata": {
    "execution": {
     "iopub.execute_input": "2021-06-30T09:21:19.759202Z",
     "iopub.status.busy": "2021-06-30T09:21:19.758524Z",
     "iopub.status.idle": "2021-06-30T09:21:19.768117Z",
     "shell.execute_reply": "2021-06-30T09:21:19.768560Z",
     "shell.execute_reply.started": "2021-06-30T07:07:44.583589Z"
    },
    "papermill": {
     "duration": 0.039628,
     "end_time": "2021-06-30T09:21:19.768706",
     "exception": false,
     "start_time": "2021-06-30T09:21:19.729078",
     "status": "completed"
    },
    "tags": []
   },
   "outputs": [
    {
     "data": {
      "text/html": [
       "<div>\n",
       "<style scoped>\n",
       "    .dataframe tbody tr th:only-of-type {\n",
       "        vertical-align: middle;\n",
       "    }\n",
       "\n",
       "    .dataframe tbody tr th {\n",
       "        vertical-align: top;\n",
       "    }\n",
       "\n",
       "    .dataframe thead th {\n",
       "        text-align: right;\n",
       "    }\n",
       "</style>\n",
       "<table border=\"1\" class=\"dataframe\">\n",
       "  <thead>\n",
       "    <tr style=\"text-align: right;\">\n",
       "      <th></th>\n",
       "      <th>id</th>\n",
       "      <th>target</th>\n",
       "    </tr>\n",
       "  </thead>\n",
       "  <tbody>\n",
       "    <tr>\n",
       "      <th>0</th>\n",
       "      <td>c0f722661</td>\n",
       "      <td>-0.125981</td>\n",
       "    </tr>\n",
       "    <tr>\n",
       "      <th>1</th>\n",
       "      <td>f0953f0a5</td>\n",
       "      <td>0.114056</td>\n",
       "    </tr>\n",
       "    <tr>\n",
       "      <th>2</th>\n",
       "      <td>0df072751</td>\n",
       "      <td>-0.108495</td>\n",
       "    </tr>\n",
       "    <tr>\n",
       "      <th>3</th>\n",
       "      <td>04caf4e0c</td>\n",
       "      <td>-2.000549</td>\n",
       "    </tr>\n",
       "    <tr>\n",
       "      <th>4</th>\n",
       "      <td>0e63f8bea</td>\n",
       "      <td>-1.332202</td>\n",
       "    </tr>\n",
       "    <tr>\n",
       "      <th>5</th>\n",
       "      <td>12537fe78</td>\n",
       "      <td>-0.439675</td>\n",
       "    </tr>\n",
       "    <tr>\n",
       "      <th>6</th>\n",
       "      <td>965e592c0</td>\n",
       "      <td>0.612411</td>\n",
       "    </tr>\n",
       "  </tbody>\n",
       "</table>\n",
       "</div>"
      ],
      "text/plain": [
       "          id    target\n",
       "0  c0f722661 -0.125981\n",
       "1  f0953f0a5  0.114056\n",
       "2  0df072751 -0.108495\n",
       "3  04caf4e0c -2.000549\n",
       "4  0e63f8bea -1.332202\n",
       "5  12537fe78 -0.439675\n",
       "6  965e592c0  0.612411"
      ]
     },
     "execution_count": 25,
     "metadata": {},
     "output_type": "execute_result"
    }
   ],
   "source": [
    "submission"
   ]
  },
  {
   "cell_type": "code",
   "execution_count": 26,
   "id": "environmental-tablet",
   "metadata": {
    "execution": {
     "iopub.execute_input": "2021-06-30T09:21:19.818292Z",
     "iopub.status.busy": "2021-06-30T09:21:19.817613Z",
     "iopub.status.idle": "2021-06-30T09:21:19.820532Z",
     "shell.execute_reply": "2021-06-30T09:21:19.820922Z",
     "shell.execute_reply.started": "2021-06-30T07:07:44.597868Z"
    },
    "papermill": {
     "duration": 0.031847,
     "end_time": "2021-06-30T09:21:19.821057",
     "exception": false,
     "start_time": "2021-06-30T09:21:19.789210",
     "status": "completed"
    },
    "tags": []
   },
   "outputs": [],
   "source": [
    "torch.cuda.empty_cache()"
   ]
  },
  {
   "cell_type": "code",
   "execution_count": null,
   "id": "matched-newsletter",
   "metadata": {
    "papermill": {
     "duration": 0.019063,
     "end_time": "2021-06-30T09:21:19.859081",
     "exception": false,
     "start_time": "2021-06-30T09:21:19.840018",
     "status": "completed"
    },
    "tags": []
   },
   "outputs": [],
   "source": []
  }
 ],
 "metadata": {
  "kernelspec": {
   "display_name": "Python 3",
   "language": "python",
   "name": "python3"
  },
  "language_info": {
   "codemirror_mode": {
    "name": "ipython",
    "version": 3
   },
   "file_extension": ".py",
   "mimetype": "text/x-python",
   "name": "python",
   "nbconvert_exporter": "python",
   "pygments_lexer": "ipython3",
   "version": "3.7.10"
  },
  "papermill": {
   "default_parameters": {},
   "duration": 53.684145,
   "end_time": "2021-06-30T09:21:22.051970",
   "environment_variables": {},
   "exception": null,
   "input_path": "__notebook__.ipynb",
   "output_path": "__notebook__.ipynb",
   "parameters": {},
   "start_time": "2021-06-30T09:20:28.367825",
   "version": "2.3.3"
  }
 },
 "nbformat": 4,
 "nbformat_minor": 5
}
