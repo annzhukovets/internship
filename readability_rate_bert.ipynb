{
 "cells": [
  {
   "cell_type": "code",
   "execution_count": 1,
   "id": "german-berkeley",
   "metadata": {
    "_cell_guid": "b1076dfc-b9ad-4769-8c92-a6c4dae69d19",
    "_uuid": "8f2839f25d086af736a60e9eeb907d3b93b6e0e5",
    "execution": {
     "iopub.execute_input": "2021-06-15T21:07:38.014937Z",
     "iopub.status.busy": "2021-06-15T21:07:38.011295Z",
     "iopub.status.idle": "2021-06-15T21:07:50.897422Z",
     "shell.execute_reply": "2021-06-15T21:07:50.896779Z",
     "shell.execute_reply.started": "2021-06-15T20:34:34.416830Z"
    },
    "papermill": {
     "duration": 12.922863,
     "end_time": "2021-06-15T21:07:50.897571",
     "exception": false,
     "start_time": "2021-06-15T21:07:37.974708",
     "status": "completed"
    },
    "tags": []
   },
   "outputs": [],
   "source": [
    "import string\n",
    "%matplotlib inline\n",
    "import os\n",
    "# os.listdir(\"../input/\")\n",
    "import torch\n",
    "import torch.nn as nn\n",
    "import pandas as pd\n",
    "import numpy as np\n",
    "os.system('pip install pytorch_pretrained_bert --no-index --find-links=\"../input/pytorch-pretrained-bert/pytorch_pretrained_bert\" ')\n",
    "from torch.utils.data import TensorDataset, DataLoader, RandomSampler, SequentialSampler\n",
    "from transformers.models.bert.modeling_bert import BertPreTrainedModel, BertModel\n",
    "from transformers import BertTokenizer\n",
    "from transformers import BertForSequenceClassification, AdamW, BertConfig\n",
    "import random\n",
    "import warnings\n",
    "warnings.filterwarnings(\"ignore\")\n",
    "\n",
    "SEED = 42\n",
    "BATCH_SIZE = 32\n",
    "MAX_LENGTH = 256\n",
    "\n",
    "device = torch.device(\"cuda\" if torch.cuda.is_available() else \"cpu\")\n",
    "n_gpu = torch.cuda.device_count()\n",
    "\n",
    "random.seed(SEED)\n",
    "np.random.seed(SEED)\n",
    "torch.manual_seed(SEED)\n",
    "if n_gpu > 0:\n",
    "    torch.cuda.manual_seed_all(SEED)"
   ]
  },
  {
   "cell_type": "code",
   "execution_count": 2,
   "id": "innocent-coordinator",
   "metadata": {
    "execution": {
     "iopub.execute_input": "2021-06-15T21:07:50.948882Z",
     "iopub.status.busy": "2021-06-15T21:07:50.948123Z",
     "iopub.status.idle": "2021-06-15T21:07:50.950834Z",
     "shell.execute_reply": "2021-06-15T21:07:50.950444Z",
     "shell.execute_reply.started": "2021-06-15T20:34:46.993557Z"
    },
    "papermill": {
     "duration": 0.030437,
     "end_time": "2021-06-15T21:07:50.950943",
     "exception": false,
     "start_time": "2021-06-15T21:07:50.920506",
     "status": "completed"
    },
    "tags": []
   },
   "outputs": [],
   "source": [
    "def children(m):\n",
    "    return m if isinstance(m, (list, tuple)) else list(m.children())\n",
    "\n",
    "\n",
    "def set_trainable_attr(m, b):\n",
    "    m.trainable = b\n",
    "    for p in m.parameters():\n",
    "        p.requires_grad = b\n",
    "\n",
    "\n",
    "def apply_leaf(m, f):\n",
    "    c = children(m)\n",
    "    if isinstance(m, nn.Module):\n",
    "        f(m)\n",
    "    if len(c) > 0:\n",
    "        for l in c:\n",
    "            apply_leaf(l, f)\n",
    "\n",
    "\n",
    "def set_trainable(l, b):\n",
    "    apply_leaf(l, lambda m: set_trainable_attr(m, b))"
   ]
  },
  {
   "cell_type": "code",
   "execution_count": 3,
   "id": "failing-paste",
   "metadata": {
    "execution": {
     "iopub.execute_input": "2021-06-15T21:07:50.998002Z",
     "iopub.status.busy": "2021-06-15T21:07:50.997188Z",
     "iopub.status.idle": "2021-06-15T21:07:50.999789Z",
     "shell.execute_reply": "2021-06-15T21:07:50.999386Z",
     "shell.execute_reply.started": "2021-06-15T20:34:47.003158Z"
    },
    "papermill": {
     "duration": 0.027605,
     "end_time": "2021-06-15T21:07:50.999899",
     "exception": false,
     "start_time": "2021-06-15T21:07:50.972294",
     "status": "completed"
    },
    "tags": []
   },
   "outputs": [],
   "source": [
    "# pip install pytorch_pretrained_bert"
   ]
  },
  {
   "cell_type": "code",
   "execution_count": 4,
   "id": "thorough-finger",
   "metadata": {
    "execution": {
     "iopub.execute_input": "2021-06-15T21:07:51.050688Z",
     "iopub.status.busy": "2021-06-15T21:07:51.049938Z",
     "iopub.status.idle": "2021-06-15T21:07:51.052296Z",
     "shell.execute_reply": "2021-06-15T21:07:51.052725Z",
     "shell.execute_reply.started": "2021-06-15T20:34:47.013525Z"
    },
    "papermill": {
     "duration": 0.031389,
     "end_time": "2021-06-15T21:07:51.052849",
     "exception": false,
     "start_time": "2021-06-15T21:07:51.021460",
     "status": "completed"
    },
    "tags": []
   },
   "outputs": [],
   "source": [
    "class BertForSequenceRegression(BertPreTrainedModel):\n",
    "    def __init__(self, config):\n",
    "        super(BertForSequenceRegression, self).__init__(config)\n",
    "        self.bert = BertModel(config)\n",
    "        self.dropout = nn.Dropout(config.hidden_dropout_prob)\n",
    "        self.dense = nn.Linear(config.hidden_size, 1)\n",
    "        self.init_weights()\n",
    "        self.loss_fct = torch.nn.MSELoss()\n",
    "\n",
    "    def forward(self, input_ids,  token_type_ids=None, attention_mask=None, targets=None):\n",
    "        _, pooled_output = self.bert(input_ids, token_type_ids, attention_mask, return_dict=False)\n",
    "        pooled_output = self.dropout(pooled_output)\n",
    "        outputs = self.dense(pooled_output)\n",
    "        if targets is not None:\n",
    "            loss = torch.sqrt(self.loss_fct(outputs.view(-1), targets.view(-1)))\n",
    "            return loss\n",
    "        else:\n",
    "            return outputs.view(-1)"
   ]
  },
  {
   "cell_type": "code",
   "execution_count": 5,
   "id": "answering-reply",
   "metadata": {
    "execution": {
     "iopub.execute_input": "2021-06-15T21:07:51.127956Z",
     "iopub.status.busy": "2021-06-15T21:07:51.117587Z",
     "iopub.status.idle": "2021-06-15T21:07:51.938046Z",
     "shell.execute_reply": "2021-06-15T21:07:51.937146Z",
     "shell.execute_reply.started": "2021-06-15T20:34:47.025516Z"
    },
    "papermill": {
     "duration": 0.862426,
     "end_time": "2021-06-15T21:07:51.938205",
     "exception": false,
     "start_time": "2021-06-15T21:07:51.075779",
     "status": "completed"
    },
    "tags": []
   },
   "outputs": [],
   "source": [
    "from sklearn.model_selection import RepeatedStratifiedKFold\n",
    "from sklearn.preprocessing import KBinsDiscretizer\n",
    "\n",
    "class regressor_stratified_cv:\n",
    "    def __init__(self, n_splits = 10, n_repeats = 2, group_count = 10,\n",
    "                 random_state = 0, strategy = 'quantile'):\n",
    "        self.group_count = group_count\n",
    "        self.strategy = strategy\n",
    "        self.cvkwargs = dict(n_splits = n_splits, n_repeats = n_repeats, \n",
    "                             random_state = random_state)\n",
    "        self.cv = RepeatedStratifiedKFold(**self.cvkwargs)\n",
    "        self.discretizer = KBinsDiscretizer(n_bins = self.group_count, encode = 'ordinal',\n",
    "                                            strategy = self.strategy)  \n",
    "            \n",
    "    def split(self, X, y, groups = None):\n",
    "        kgroups=self.discretizer.fit_transform(y[:, None])[:, 0]\n",
    "        return self.cv.split(X, kgroups, groups)\n",
    "    \n",
    "    def get_n_splits(self, X, y, groups = None):\n",
    "        return self.cv.get_n_splits(X, y, groups)"
   ]
  },
  {
   "cell_type": "code",
   "execution_count": 6,
   "id": "complimentary-convention",
   "metadata": {
    "execution": {
     "iopub.execute_input": "2021-06-15T21:07:51.988265Z",
     "iopub.status.busy": "2021-06-15T21:07:51.987709Z",
     "iopub.status.idle": "2021-06-15T21:07:51.991607Z",
     "shell.execute_reply": "2021-06-15T21:07:51.991205Z",
     "shell.execute_reply.started": "2021-06-15T20:34:47.714187Z"
    },
    "papermill": {
     "duration": 0.031806,
     "end_time": "2021-06-15T21:07:51.991722",
     "exception": false,
     "start_time": "2021-06-15T21:07:51.959916",
     "status": "completed"
    },
    "tags": []
   },
   "outputs": [],
   "source": [
    "def text_preprocessing(excerpt):\n",
    "    \n",
    "    # lower casing\n",
    "    excerpt = excerpt.lower()\n",
    "\n",
    "    # removal of punctuation\n",
    "    excerpt = excerpt.translate(str.maketrans('', '', string.punctuation))\n",
    "\n",
    "        \n",
    "    # removal of stopwords\n",
    "    from nltk.corpus import stopwords\n",
    "    \", \".join(stopwords.words('english'))\n",
    "    STOPWORDS = set(stopwords.words('english'))\n",
    "    excerpt = \" \".join([word for word in str(excerpt).split() if word not in STOPWORDS])\n",
    "        \n",
    "    # lemmatization \n",
    "    from nltk.stem import WordNetLemmatizer\n",
    "    lemmatizer = WordNetLemmatizer()\n",
    "    excerpt = \" \".join([lemmatizer.lemmatize(word) for word in excerpt.split()])\n",
    "        \n",
    "                \n",
    "    return excerpt"
   ]
  },
  {
   "cell_type": "code",
   "execution_count": 7,
   "id": "wireless-timing",
   "metadata": {
    "execution": {
     "iopub.execute_input": "2021-06-15T21:07:52.040917Z",
     "iopub.status.busy": "2021-06-15T21:07:52.040392Z",
     "iopub.status.idle": "2021-06-15T21:07:52.156389Z",
     "shell.execute_reply": "2021-06-15T21:07:52.156844Z",
     "shell.execute_reply.started": "2021-06-15T20:34:47.723802Z"
    },
    "papermill": {
     "duration": 0.143864,
     "end_time": "2021-06-15T21:07:52.157000",
     "exception": false,
     "start_time": "2021-06-15T21:07:52.013136",
     "status": "completed"
    },
    "tags": []
   },
   "outputs": [
    {
     "data": {
      "text/html": [
       "<div>\n",
       "<style scoped>\n",
       "    .dataframe tbody tr th:only-of-type {\n",
       "        vertical-align: middle;\n",
       "    }\n",
       "\n",
       "    .dataframe tbody tr th {\n",
       "        vertical-align: top;\n",
       "    }\n",
       "\n",
       "    .dataframe thead th {\n",
       "        text-align: right;\n",
       "    }\n",
       "</style>\n",
       "<table border=\"1\" class=\"dataframe\">\n",
       "  <thead>\n",
       "    <tr style=\"text-align: right;\">\n",
       "      <th></th>\n",
       "      <th>id</th>\n",
       "      <th>url_legal</th>\n",
       "      <th>license</th>\n",
       "      <th>excerpt</th>\n",
       "      <th>target</th>\n",
       "      <th>standard_error</th>\n",
       "    </tr>\n",
       "  </thead>\n",
       "  <tbody>\n",
       "    <tr>\n",
       "      <th>0</th>\n",
       "      <td>c12129c31</td>\n",
       "      <td>NaN</td>\n",
       "      <td>NaN</td>\n",
       "      <td>When the young people returned to the ballroom...</td>\n",
       "      <td>-0.340259</td>\n",
       "      <td>0.464009</td>\n",
       "    </tr>\n",
       "    <tr>\n",
       "      <th>1</th>\n",
       "      <td>85aa80a4c</td>\n",
       "      <td>NaN</td>\n",
       "      <td>NaN</td>\n",
       "      <td>All through dinner time, Mrs. Fayre was somewh...</td>\n",
       "      <td>-0.315372</td>\n",
       "      <td>0.480805</td>\n",
       "    </tr>\n",
       "    <tr>\n",
       "      <th>2</th>\n",
       "      <td>b69ac6792</td>\n",
       "      <td>NaN</td>\n",
       "      <td>NaN</td>\n",
       "      <td>As Roger had predicted, the snow departed as q...</td>\n",
       "      <td>-0.580118</td>\n",
       "      <td>0.476676</td>\n",
       "    </tr>\n",
       "    <tr>\n",
       "      <th>3</th>\n",
       "      <td>dd1000b26</td>\n",
       "      <td>NaN</td>\n",
       "      <td>NaN</td>\n",
       "      <td>And outside before the palace a great garden w...</td>\n",
       "      <td>-1.054013</td>\n",
       "      <td>0.450007</td>\n",
       "    </tr>\n",
       "    <tr>\n",
       "      <th>4</th>\n",
       "      <td>37c1b32fb</td>\n",
       "      <td>NaN</td>\n",
       "      <td>NaN</td>\n",
       "      <td>Once upon a time there were Three Bears who li...</td>\n",
       "      <td>0.247197</td>\n",
       "      <td>0.510845</td>\n",
       "    </tr>\n",
       "    <tr>\n",
       "      <th>...</th>\n",
       "      <td>...</td>\n",
       "      <td>...</td>\n",
       "      <td>...</td>\n",
       "      <td>...</td>\n",
       "      <td>...</td>\n",
       "      <td>...</td>\n",
       "    </tr>\n",
       "    <tr>\n",
       "      <th>2829</th>\n",
       "      <td>25ca8f498</td>\n",
       "      <td>https://sites.ehe.osu.edu/beyondpenguins/files...</td>\n",
       "      <td>CC BY-SA 3.0</td>\n",
       "      <td>When you think of dinosaurs and where they liv...</td>\n",
       "      <td>1.711390</td>\n",
       "      <td>0.646900</td>\n",
       "    </tr>\n",
       "    <tr>\n",
       "      <th>2830</th>\n",
       "      <td>2c26db523</td>\n",
       "      <td>https://en.wikibooks.org/wiki/Wikijunior:The_E...</td>\n",
       "      <td>CC BY-SA 3.0</td>\n",
       "      <td>So what is a solid? Solids are usually hard be...</td>\n",
       "      <td>0.189476</td>\n",
       "      <td>0.535648</td>\n",
       "    </tr>\n",
       "    <tr>\n",
       "      <th>2831</th>\n",
       "      <td>cd19e2350</td>\n",
       "      <td>https://en.wikibooks.org/wiki/Wikijunior:The_E...</td>\n",
       "      <td>CC BY-SA 3.0</td>\n",
       "      <td>The second state of matter we will discuss is ...</td>\n",
       "      <td>0.255209</td>\n",
       "      <td>0.483866</td>\n",
       "    </tr>\n",
       "    <tr>\n",
       "      <th>2832</th>\n",
       "      <td>15e2e9e7a</td>\n",
       "      <td>https://en.wikibooks.org/wiki/Geometry_for_Ele...</td>\n",
       "      <td>CC BY-SA 3.0</td>\n",
       "      <td>Solids are shapes that you can actually touch....</td>\n",
       "      <td>-0.215279</td>\n",
       "      <td>0.514128</td>\n",
       "    </tr>\n",
       "    <tr>\n",
       "      <th>2833</th>\n",
       "      <td>5b990ba77</td>\n",
       "      <td>https://en.wikibooks.org/wiki/Wikijunior:Biolo...</td>\n",
       "      <td>CC BY-SA 3.0</td>\n",
       "      <td>Animals are made of many cells. They eat thing...</td>\n",
       "      <td>0.300779</td>\n",
       "      <td>0.512379</td>\n",
       "    </tr>\n",
       "  </tbody>\n",
       "</table>\n",
       "<p>2834 rows × 6 columns</p>\n",
       "</div>"
      ],
      "text/plain": [
       "             id                                          url_legal  \\\n",
       "0     c12129c31                                                NaN   \n",
       "1     85aa80a4c                                                NaN   \n",
       "2     b69ac6792                                                NaN   \n",
       "3     dd1000b26                                                NaN   \n",
       "4     37c1b32fb                                                NaN   \n",
       "...         ...                                                ...   \n",
       "2829  25ca8f498  https://sites.ehe.osu.edu/beyondpenguins/files...   \n",
       "2830  2c26db523  https://en.wikibooks.org/wiki/Wikijunior:The_E...   \n",
       "2831  cd19e2350  https://en.wikibooks.org/wiki/Wikijunior:The_E...   \n",
       "2832  15e2e9e7a  https://en.wikibooks.org/wiki/Geometry_for_Ele...   \n",
       "2833  5b990ba77  https://en.wikibooks.org/wiki/Wikijunior:Biolo...   \n",
       "\n",
       "           license                                            excerpt  \\\n",
       "0              NaN  When the young people returned to the ballroom...   \n",
       "1              NaN  All through dinner time, Mrs. Fayre was somewh...   \n",
       "2              NaN  As Roger had predicted, the snow departed as q...   \n",
       "3              NaN  And outside before the palace a great garden w...   \n",
       "4              NaN  Once upon a time there were Three Bears who li...   \n",
       "...            ...                                                ...   \n",
       "2829  CC BY-SA 3.0  When you think of dinosaurs and where they liv...   \n",
       "2830  CC BY-SA 3.0  So what is a solid? Solids are usually hard be...   \n",
       "2831  CC BY-SA 3.0  The second state of matter we will discuss is ...   \n",
       "2832  CC BY-SA 3.0  Solids are shapes that you can actually touch....   \n",
       "2833  CC BY-SA 3.0  Animals are made of many cells. They eat thing...   \n",
       "\n",
       "        target  standard_error  \n",
       "0    -0.340259        0.464009  \n",
       "1    -0.315372        0.480805  \n",
       "2    -0.580118        0.476676  \n",
       "3    -1.054013        0.450007  \n",
       "4     0.247197        0.510845  \n",
       "...        ...             ...  \n",
       "2829  1.711390        0.646900  \n",
       "2830  0.189476        0.535648  \n",
       "2831  0.255209        0.483866  \n",
       "2832 -0.215279        0.514128  \n",
       "2833  0.300779        0.512379  \n",
       "\n",
       "[2834 rows x 6 columns]"
      ]
     },
     "execution_count": 7,
     "metadata": {},
     "output_type": "execute_result"
    }
   ],
   "source": [
    "df = pd.read_csv('../input/commonlitreadabilityprize/train.csv')\n",
    "df"
   ]
  },
  {
   "cell_type": "code",
   "execution_count": 8,
   "id": "electoral-wrestling",
   "metadata": {
    "execution": {
     "iopub.execute_input": "2021-06-15T21:07:52.208731Z",
     "iopub.status.busy": "2021-06-15T21:07:52.208047Z",
     "iopub.status.idle": "2021-06-15T21:07:56.580111Z",
     "shell.execute_reply": "2021-06-15T21:07:56.579608Z",
     "shell.execute_reply.started": "2021-06-15T20:34:47.854211Z"
    },
    "papermill": {
     "duration": 4.399885,
     "end_time": "2021-06-15T21:07:56.580551",
     "exception": false,
     "start_time": "2021-06-15T21:07:52.180666",
     "status": "completed"
    },
    "tags": []
   },
   "outputs": [],
   "source": [
    "df[\"text\"] = df[\"excerpt\"].apply(lambda x: text_preprocessing(x))"
   ]
  },
  {
   "cell_type": "code",
   "execution_count": 9,
   "id": "hidden-highlight",
   "metadata": {
    "execution": {
     "iopub.execute_input": "2021-06-15T21:07:56.630131Z",
     "iopub.status.busy": "2021-06-15T21:07:56.629329Z",
     "iopub.status.idle": "2021-06-15T21:07:56.631517Z",
     "shell.execute_reply": "2021-06-15T21:07:56.631913Z",
     "shell.execute_reply.started": "2021-06-15T20:34:52.827144Z"
    },
    "papermill": {
     "duration": 0.02875,
     "end_time": "2021-06-15T21:07:56.632051",
     "exception": false,
     "start_time": "2021-06-15T21:07:56.603301",
     "status": "completed"
    },
    "tags": []
   },
   "outputs": [],
   "source": [
    "excerpts = df.text.values\n",
    "targets = df.target.values"
   ]
  },
  {
   "cell_type": "code",
   "execution_count": 10,
   "id": "demanding-legislation",
   "metadata": {
    "execution": {
     "iopub.execute_input": "2021-06-15T21:07:56.679979Z",
     "iopub.status.busy": "2021-06-15T21:07:56.679156Z",
     "iopub.status.idle": "2021-06-15T21:07:56.681832Z",
     "shell.execute_reply": "2021-06-15T21:07:56.681441Z",
     "shell.execute_reply.started": "2021-06-15T20:34:52.834179Z"
    },
    "papermill": {
     "duration": 0.027993,
     "end_time": "2021-06-15T21:07:56.681948",
     "exception": false,
     "start_time": "2021-06-15T21:07:56.653955",
     "status": "completed"
    },
    "tags": []
   },
   "outputs": [],
   "source": [
    "BERT_FP = '../input/bert-base-uncased'"
   ]
  },
  {
   "cell_type": "code",
   "execution_count": 11,
   "id": "figured-bride",
   "metadata": {
    "execution": {
     "iopub.execute_input": "2021-06-15T21:07:56.729031Z",
     "iopub.status.busy": "2021-06-15T21:07:56.728561Z",
     "iopub.status.idle": "2021-06-15T21:07:56.776959Z",
     "shell.execute_reply": "2021-06-15T21:07:56.776483Z",
     "shell.execute_reply.started": "2021-06-15T20:34:52.845606Z"
    },
    "papermill": {
     "duration": 0.073489,
     "end_time": "2021-06-15T21:07:56.777073",
     "exception": false,
     "start_time": "2021-06-15T21:07:56.703584",
     "status": "completed"
    },
    "tags": []
   },
   "outputs": [],
   "source": [
    "# Load the BERT tokenizer.\n",
    "tokenizer = BertTokenizer.from_pretrained(BERT_FP, do_lower_case=True)"
   ]
  },
  {
   "cell_type": "code",
   "execution_count": 12,
   "id": "cooperative-canadian",
   "metadata": {
    "execution": {
     "iopub.execute_input": "2021-06-15T21:07:56.854835Z",
     "iopub.status.busy": "2021-06-15T21:07:56.839414Z",
     "iopub.status.idle": "2021-06-15T21:08:06.747423Z",
     "shell.execute_reply": "2021-06-15T21:08:06.747828Z",
     "shell.execute_reply.started": "2021-06-15T20:34:52.900749Z"
    },
    "papermill": {
     "duration": 9.94825,
     "end_time": "2021-06-15T21:08:06.747988",
     "exception": false,
     "start_time": "2021-06-15T21:07:56.799738",
     "status": "completed"
    },
    "tags": []
   },
   "outputs": [],
   "source": [
    "# convert sentences into tokens\n",
    "input_ids = [tokenizer.encode(excerpt, add_special_tokens = True, max_length = MAX_LENGTH,\n",
    "                              padding='max_length') for excerpt in excerpts]\n",
    "\n",
    "input_ids = np.array(input_ids)\n",
    "attention_masks = []\n",
    "# create a mask of 1 for all input tokens and 0 for all padding tokens\n",
    "attention_masks = [[float(i>0) for i in seq] for seq in input_ids]\n",
    "attention_masks = np.array(attention_masks)\n",
    "# create token type ids\n",
    "token_type_ids = [[0 for i in seq] for seq in input_ids]\n",
    "token_type_ids = np.array(token_type_ids)"
   ]
  },
  {
   "cell_type": "code",
   "execution_count": 13,
   "id": "likely-segment",
   "metadata": {
    "execution": {
     "iopub.execute_input": "2021-06-15T21:08:06.798781Z",
     "iopub.status.busy": "2021-06-15T21:08:06.798134Z",
     "iopub.status.idle": "2021-06-15T21:08:06.851782Z",
     "shell.execute_reply": "2021-06-15T21:08:06.852202Z",
     "shell.execute_reply.started": "2021-06-15T20:35:02.809110Z"
    },
    "papermill": {
     "duration": 0.081913,
     "end_time": "2021-06-15T21:08:06.852363",
     "exception": false,
     "start_time": "2021-06-15T21:08:06.770450",
     "status": "completed"
    },
    "tags": []
   },
   "outputs": [],
   "source": [
    "n_splits = 5\n",
    "n_repeats = 2\n",
    "group_count = 10\n",
    "cv = regressor_stratified_cv(n_splits = n_splits, n_repeats = n_repeats,\n",
    "                           group_count = group_count, random_state = 0, strategy = 'quantile')\n",
    "\n",
    "for train_index, test_index in cv.split(input_ids, targets):\n",
    "    train_inputs, test_inputs = input_ids[train_index], input_ids[test_index]\n",
    "    train_targets, test_targets = targets[train_index], targets[test_index]\n",
    "    train_masks, test_masks = attention_masks[train_index], attention_masks[test_index]\n",
    "    train_type_ids, test_type_ids = token_type_ids[train_index], token_type_ids[test_index]"
   ]
  },
  {
   "cell_type": "code",
   "execution_count": 14,
   "id": "killing-donna",
   "metadata": {
    "execution": {
     "iopub.execute_input": "2021-06-15T21:08:06.908718Z",
     "iopub.status.busy": "2021-06-15T21:08:06.908072Z",
     "iopub.status.idle": "2021-06-15T21:08:06.941102Z",
     "shell.execute_reply": "2021-06-15T21:08:06.940667Z",
     "shell.execute_reply.started": "2021-06-15T20:35:02.881483Z"
    },
    "papermill": {
     "duration": 0.066579,
     "end_time": "2021-06-15T21:08:06.941248",
     "exception": false,
     "start_time": "2021-06-15T21:08:06.874669",
     "status": "completed"
    },
    "tags": []
   },
   "outputs": [],
   "source": [
    "train_inputs = torch.tensor(train_inputs, dtype=torch.long)\n",
    "test_inputs = torch.tensor(test_inputs, dtype=torch.long)\n",
    "train_targets = torch.tensor(train_targets, dtype=torch.float)\n",
    "test_targets = torch.tensor(test_targets, dtype=torch.float)\n",
    "train_masks = torch.tensor(train_masks, dtype=torch.long)\n",
    "test_masks = torch.tensor(test_masks, dtype=torch.long)\n",
    "train_type_ids = torch.tensor(train_type_ids, dtype=torch.long)\n",
    "test_type_ids = torch.tensor(test_type_ids, dtype=torch.long)"
   ]
  },
  {
   "cell_type": "code",
   "execution_count": 15,
   "id": "atomic-european",
   "metadata": {
    "execution": {
     "iopub.execute_input": "2021-06-15T21:08:06.992694Z",
     "iopub.status.busy": "2021-06-15T21:08:06.991850Z",
     "iopub.status.idle": "2021-06-15T21:08:06.994397Z",
     "shell.execute_reply": "2021-06-15T21:08:06.993988Z",
     "shell.execute_reply.started": "2021-06-15T20:35:02.922932Z"
    },
    "papermill": {
     "duration": 0.031232,
     "end_time": "2021-06-15T21:08:06.994519",
     "exception": false,
     "start_time": "2021-06-15T21:08:06.963287",
     "status": "completed"
    },
    "tags": []
   },
   "outputs": [],
   "source": [
    "train_data = TensorDataset(train_inputs, train_masks, train_type_ids, train_targets)\n",
    "train_sampler = RandomSampler(train_data)\n",
    "train_dataloader = DataLoader(train_data, sampler = train_sampler, batch_size = BATCH_SIZE)\n",
    "\n",
    "test_data = TensorDataset(test_inputs, test_masks, test_type_ids, test_targets)\n",
    "test_sampler = RandomSampler(test_data)\n",
    "test_dataloader = DataLoader(test_data, sampler = test_sampler, batch_size = BATCH_SIZE)"
   ]
  },
  {
   "cell_type": "code",
   "execution_count": 16,
   "id": "signal-acting",
   "metadata": {
    "execution": {
     "iopub.execute_input": "2021-06-15T21:08:07.042013Z",
     "iopub.status.busy": "2021-06-15T21:08:07.041417Z",
     "iopub.status.idle": "2021-06-15T21:08:22.582711Z",
     "shell.execute_reply": "2021-06-15T21:08:22.583092Z",
     "shell.execute_reply.started": "2021-06-15T20:35:02.939167Z"
    },
    "papermill": {
     "duration": 15.566761,
     "end_time": "2021-06-15T21:08:22.583257",
     "exception": false,
     "start_time": "2021-06-15T21:08:07.016496",
     "status": "completed"
    },
    "tags": []
   },
   "outputs": [
    {
     "name": "stderr",
     "output_type": "stream",
     "text": [
      "Some weights of the model checkpoint at ../input/bert-base-uncased were not used when initializing BertForSequenceRegression: ['cls.predictions.bias', 'cls.predictions.transform.dense.weight', 'cls.predictions.transform.dense.bias', 'cls.predictions.decoder.weight', 'cls.seq_relationship.weight', 'cls.seq_relationship.bias', 'cls.predictions.transform.LayerNorm.weight', 'cls.predictions.transform.LayerNorm.bias']\n",
      "- This IS expected if you are initializing BertForSequenceRegression from the checkpoint of a model trained on another task or with another architecture (e.g. initializing a BertForSequenceClassification model from a BertForPreTraining model).\n",
      "- This IS NOT expected if you are initializing BertForSequenceRegression from the checkpoint of a model that you expect to be exactly identical (initializing a BertForSequenceClassification model from a BertForSequenceClassification model).\n",
      "Some weights of BertForSequenceRegression were not initialized from the model checkpoint at ../input/bert-base-uncased and are newly initialized: ['dense.weight', 'dense.bias']\n",
      "You should probably TRAIN this model on a down-stream task to be able to use it for predictions and inference.\n"
     ]
    },
    {
     "data": {
      "text/plain": [
       "BertForSequenceRegression(\n",
       "  (bert): BertModel(\n",
       "    (embeddings): BertEmbeddings(\n",
       "      (word_embeddings): Embedding(30522, 768, padding_idx=0)\n",
       "      (position_embeddings): Embedding(512, 768)\n",
       "      (token_type_embeddings): Embedding(2, 768)\n",
       "      (LayerNorm): LayerNorm((768,), eps=1e-12, elementwise_affine=True)\n",
       "      (dropout): Dropout(p=0.1, inplace=False)\n",
       "    )\n",
       "    (encoder): BertEncoder(\n",
       "      (layer): ModuleList(\n",
       "        (0): BertLayer(\n",
       "          (attention): BertAttention(\n",
       "            (self): BertSelfAttention(\n",
       "              (query): Linear(in_features=768, out_features=768, bias=True)\n",
       "              (key): Linear(in_features=768, out_features=768, bias=True)\n",
       "              (value): Linear(in_features=768, out_features=768, bias=True)\n",
       "              (dropout): Dropout(p=0.1, inplace=False)\n",
       "            )\n",
       "            (output): BertSelfOutput(\n",
       "              (dense): Linear(in_features=768, out_features=768, bias=True)\n",
       "              (LayerNorm): LayerNorm((768,), eps=1e-12, elementwise_affine=True)\n",
       "              (dropout): Dropout(p=0.1, inplace=False)\n",
       "            )\n",
       "          )\n",
       "          (intermediate): BertIntermediate(\n",
       "            (dense): Linear(in_features=768, out_features=3072, bias=True)\n",
       "          )\n",
       "          (output): BertOutput(\n",
       "            (dense): Linear(in_features=3072, out_features=768, bias=True)\n",
       "            (LayerNorm): LayerNorm((768,), eps=1e-12, elementwise_affine=True)\n",
       "            (dropout): Dropout(p=0.1, inplace=False)\n",
       "          )\n",
       "        )\n",
       "        (1): BertLayer(\n",
       "          (attention): BertAttention(\n",
       "            (self): BertSelfAttention(\n",
       "              (query): Linear(in_features=768, out_features=768, bias=True)\n",
       "              (key): Linear(in_features=768, out_features=768, bias=True)\n",
       "              (value): Linear(in_features=768, out_features=768, bias=True)\n",
       "              (dropout): Dropout(p=0.1, inplace=False)\n",
       "            )\n",
       "            (output): BertSelfOutput(\n",
       "              (dense): Linear(in_features=768, out_features=768, bias=True)\n",
       "              (LayerNorm): LayerNorm((768,), eps=1e-12, elementwise_affine=True)\n",
       "              (dropout): Dropout(p=0.1, inplace=False)\n",
       "            )\n",
       "          )\n",
       "          (intermediate): BertIntermediate(\n",
       "            (dense): Linear(in_features=768, out_features=3072, bias=True)\n",
       "          )\n",
       "          (output): BertOutput(\n",
       "            (dense): Linear(in_features=3072, out_features=768, bias=True)\n",
       "            (LayerNorm): LayerNorm((768,), eps=1e-12, elementwise_affine=True)\n",
       "            (dropout): Dropout(p=0.1, inplace=False)\n",
       "          )\n",
       "        )\n",
       "        (2): BertLayer(\n",
       "          (attention): BertAttention(\n",
       "            (self): BertSelfAttention(\n",
       "              (query): Linear(in_features=768, out_features=768, bias=True)\n",
       "              (key): Linear(in_features=768, out_features=768, bias=True)\n",
       "              (value): Linear(in_features=768, out_features=768, bias=True)\n",
       "              (dropout): Dropout(p=0.1, inplace=False)\n",
       "            )\n",
       "            (output): BertSelfOutput(\n",
       "              (dense): Linear(in_features=768, out_features=768, bias=True)\n",
       "              (LayerNorm): LayerNorm((768,), eps=1e-12, elementwise_affine=True)\n",
       "              (dropout): Dropout(p=0.1, inplace=False)\n",
       "            )\n",
       "          )\n",
       "          (intermediate): BertIntermediate(\n",
       "            (dense): Linear(in_features=768, out_features=3072, bias=True)\n",
       "          )\n",
       "          (output): BertOutput(\n",
       "            (dense): Linear(in_features=3072, out_features=768, bias=True)\n",
       "            (LayerNorm): LayerNorm((768,), eps=1e-12, elementwise_affine=True)\n",
       "            (dropout): Dropout(p=0.1, inplace=False)\n",
       "          )\n",
       "        )\n",
       "        (3): BertLayer(\n",
       "          (attention): BertAttention(\n",
       "            (self): BertSelfAttention(\n",
       "              (query): Linear(in_features=768, out_features=768, bias=True)\n",
       "              (key): Linear(in_features=768, out_features=768, bias=True)\n",
       "              (value): Linear(in_features=768, out_features=768, bias=True)\n",
       "              (dropout): Dropout(p=0.1, inplace=False)\n",
       "            )\n",
       "            (output): BertSelfOutput(\n",
       "              (dense): Linear(in_features=768, out_features=768, bias=True)\n",
       "              (LayerNorm): LayerNorm((768,), eps=1e-12, elementwise_affine=True)\n",
       "              (dropout): Dropout(p=0.1, inplace=False)\n",
       "            )\n",
       "          )\n",
       "          (intermediate): BertIntermediate(\n",
       "            (dense): Linear(in_features=768, out_features=3072, bias=True)\n",
       "          )\n",
       "          (output): BertOutput(\n",
       "            (dense): Linear(in_features=3072, out_features=768, bias=True)\n",
       "            (LayerNorm): LayerNorm((768,), eps=1e-12, elementwise_affine=True)\n",
       "            (dropout): Dropout(p=0.1, inplace=False)\n",
       "          )\n",
       "        )\n",
       "        (4): BertLayer(\n",
       "          (attention): BertAttention(\n",
       "            (self): BertSelfAttention(\n",
       "              (query): Linear(in_features=768, out_features=768, bias=True)\n",
       "              (key): Linear(in_features=768, out_features=768, bias=True)\n",
       "              (value): Linear(in_features=768, out_features=768, bias=True)\n",
       "              (dropout): Dropout(p=0.1, inplace=False)\n",
       "            )\n",
       "            (output): BertSelfOutput(\n",
       "              (dense): Linear(in_features=768, out_features=768, bias=True)\n",
       "              (LayerNorm): LayerNorm((768,), eps=1e-12, elementwise_affine=True)\n",
       "              (dropout): Dropout(p=0.1, inplace=False)\n",
       "            )\n",
       "          )\n",
       "          (intermediate): BertIntermediate(\n",
       "            (dense): Linear(in_features=768, out_features=3072, bias=True)\n",
       "          )\n",
       "          (output): BertOutput(\n",
       "            (dense): Linear(in_features=3072, out_features=768, bias=True)\n",
       "            (LayerNorm): LayerNorm((768,), eps=1e-12, elementwise_affine=True)\n",
       "            (dropout): Dropout(p=0.1, inplace=False)\n",
       "          )\n",
       "        )\n",
       "        (5): BertLayer(\n",
       "          (attention): BertAttention(\n",
       "            (self): BertSelfAttention(\n",
       "              (query): Linear(in_features=768, out_features=768, bias=True)\n",
       "              (key): Linear(in_features=768, out_features=768, bias=True)\n",
       "              (value): Linear(in_features=768, out_features=768, bias=True)\n",
       "              (dropout): Dropout(p=0.1, inplace=False)\n",
       "            )\n",
       "            (output): BertSelfOutput(\n",
       "              (dense): Linear(in_features=768, out_features=768, bias=True)\n",
       "              (LayerNorm): LayerNorm((768,), eps=1e-12, elementwise_affine=True)\n",
       "              (dropout): Dropout(p=0.1, inplace=False)\n",
       "            )\n",
       "          )\n",
       "          (intermediate): BertIntermediate(\n",
       "            (dense): Linear(in_features=768, out_features=3072, bias=True)\n",
       "          )\n",
       "          (output): BertOutput(\n",
       "            (dense): Linear(in_features=3072, out_features=768, bias=True)\n",
       "            (LayerNorm): LayerNorm((768,), eps=1e-12, elementwise_affine=True)\n",
       "            (dropout): Dropout(p=0.1, inplace=False)\n",
       "          )\n",
       "        )\n",
       "        (6): BertLayer(\n",
       "          (attention): BertAttention(\n",
       "            (self): BertSelfAttention(\n",
       "              (query): Linear(in_features=768, out_features=768, bias=True)\n",
       "              (key): Linear(in_features=768, out_features=768, bias=True)\n",
       "              (value): Linear(in_features=768, out_features=768, bias=True)\n",
       "              (dropout): Dropout(p=0.1, inplace=False)\n",
       "            )\n",
       "            (output): BertSelfOutput(\n",
       "              (dense): Linear(in_features=768, out_features=768, bias=True)\n",
       "              (LayerNorm): LayerNorm((768,), eps=1e-12, elementwise_affine=True)\n",
       "              (dropout): Dropout(p=0.1, inplace=False)\n",
       "            )\n",
       "          )\n",
       "          (intermediate): BertIntermediate(\n",
       "            (dense): Linear(in_features=768, out_features=3072, bias=True)\n",
       "          )\n",
       "          (output): BertOutput(\n",
       "            (dense): Linear(in_features=3072, out_features=768, bias=True)\n",
       "            (LayerNorm): LayerNorm((768,), eps=1e-12, elementwise_affine=True)\n",
       "            (dropout): Dropout(p=0.1, inplace=False)\n",
       "          )\n",
       "        )\n",
       "        (7): BertLayer(\n",
       "          (attention): BertAttention(\n",
       "            (self): BertSelfAttention(\n",
       "              (query): Linear(in_features=768, out_features=768, bias=True)\n",
       "              (key): Linear(in_features=768, out_features=768, bias=True)\n",
       "              (value): Linear(in_features=768, out_features=768, bias=True)\n",
       "              (dropout): Dropout(p=0.1, inplace=False)\n",
       "            )\n",
       "            (output): BertSelfOutput(\n",
       "              (dense): Linear(in_features=768, out_features=768, bias=True)\n",
       "              (LayerNorm): LayerNorm((768,), eps=1e-12, elementwise_affine=True)\n",
       "              (dropout): Dropout(p=0.1, inplace=False)\n",
       "            )\n",
       "          )\n",
       "          (intermediate): BertIntermediate(\n",
       "            (dense): Linear(in_features=768, out_features=3072, bias=True)\n",
       "          )\n",
       "          (output): BertOutput(\n",
       "            (dense): Linear(in_features=3072, out_features=768, bias=True)\n",
       "            (LayerNorm): LayerNorm((768,), eps=1e-12, elementwise_affine=True)\n",
       "            (dropout): Dropout(p=0.1, inplace=False)\n",
       "          )\n",
       "        )\n",
       "        (8): BertLayer(\n",
       "          (attention): BertAttention(\n",
       "            (self): BertSelfAttention(\n",
       "              (query): Linear(in_features=768, out_features=768, bias=True)\n",
       "              (key): Linear(in_features=768, out_features=768, bias=True)\n",
       "              (value): Linear(in_features=768, out_features=768, bias=True)\n",
       "              (dropout): Dropout(p=0.1, inplace=False)\n",
       "            )\n",
       "            (output): BertSelfOutput(\n",
       "              (dense): Linear(in_features=768, out_features=768, bias=True)\n",
       "              (LayerNorm): LayerNorm((768,), eps=1e-12, elementwise_affine=True)\n",
       "              (dropout): Dropout(p=0.1, inplace=False)\n",
       "            )\n",
       "          )\n",
       "          (intermediate): BertIntermediate(\n",
       "            (dense): Linear(in_features=768, out_features=3072, bias=True)\n",
       "          )\n",
       "          (output): BertOutput(\n",
       "            (dense): Linear(in_features=3072, out_features=768, bias=True)\n",
       "            (LayerNorm): LayerNorm((768,), eps=1e-12, elementwise_affine=True)\n",
       "            (dropout): Dropout(p=0.1, inplace=False)\n",
       "          )\n",
       "        )\n",
       "        (9): BertLayer(\n",
       "          (attention): BertAttention(\n",
       "            (self): BertSelfAttention(\n",
       "              (query): Linear(in_features=768, out_features=768, bias=True)\n",
       "              (key): Linear(in_features=768, out_features=768, bias=True)\n",
       "              (value): Linear(in_features=768, out_features=768, bias=True)\n",
       "              (dropout): Dropout(p=0.1, inplace=False)\n",
       "            )\n",
       "            (output): BertSelfOutput(\n",
       "              (dense): Linear(in_features=768, out_features=768, bias=True)\n",
       "              (LayerNorm): LayerNorm((768,), eps=1e-12, elementwise_affine=True)\n",
       "              (dropout): Dropout(p=0.1, inplace=False)\n",
       "            )\n",
       "          )\n",
       "          (intermediate): BertIntermediate(\n",
       "            (dense): Linear(in_features=768, out_features=3072, bias=True)\n",
       "          )\n",
       "          (output): BertOutput(\n",
       "            (dense): Linear(in_features=3072, out_features=768, bias=True)\n",
       "            (LayerNorm): LayerNorm((768,), eps=1e-12, elementwise_affine=True)\n",
       "            (dropout): Dropout(p=0.1, inplace=False)\n",
       "          )\n",
       "        )\n",
       "        (10): BertLayer(\n",
       "          (attention): BertAttention(\n",
       "            (self): BertSelfAttention(\n",
       "              (query): Linear(in_features=768, out_features=768, bias=True)\n",
       "              (key): Linear(in_features=768, out_features=768, bias=True)\n",
       "              (value): Linear(in_features=768, out_features=768, bias=True)\n",
       "              (dropout): Dropout(p=0.1, inplace=False)\n",
       "            )\n",
       "            (output): BertSelfOutput(\n",
       "              (dense): Linear(in_features=768, out_features=768, bias=True)\n",
       "              (LayerNorm): LayerNorm((768,), eps=1e-12, elementwise_affine=True)\n",
       "              (dropout): Dropout(p=0.1, inplace=False)\n",
       "            )\n",
       "          )\n",
       "          (intermediate): BertIntermediate(\n",
       "            (dense): Linear(in_features=768, out_features=3072, bias=True)\n",
       "          )\n",
       "          (output): BertOutput(\n",
       "            (dense): Linear(in_features=3072, out_features=768, bias=True)\n",
       "            (LayerNorm): LayerNorm((768,), eps=1e-12, elementwise_affine=True)\n",
       "            (dropout): Dropout(p=0.1, inplace=False)\n",
       "          )\n",
       "        )\n",
       "        (11): BertLayer(\n",
       "          (attention): BertAttention(\n",
       "            (self): BertSelfAttention(\n",
       "              (query): Linear(in_features=768, out_features=768, bias=True)\n",
       "              (key): Linear(in_features=768, out_features=768, bias=True)\n",
       "              (value): Linear(in_features=768, out_features=768, bias=True)\n",
       "              (dropout): Dropout(p=0.1, inplace=False)\n",
       "            )\n",
       "            (output): BertSelfOutput(\n",
       "              (dense): Linear(in_features=768, out_features=768, bias=True)\n",
       "              (LayerNorm): LayerNorm((768,), eps=1e-12, elementwise_affine=True)\n",
       "              (dropout): Dropout(p=0.1, inplace=False)\n",
       "            )\n",
       "          )\n",
       "          (intermediate): BertIntermediate(\n",
       "            (dense): Linear(in_features=768, out_features=3072, bias=True)\n",
       "          )\n",
       "          (output): BertOutput(\n",
       "            (dense): Linear(in_features=3072, out_features=768, bias=True)\n",
       "            (LayerNorm): LayerNorm((768,), eps=1e-12, elementwise_affine=True)\n",
       "            (dropout): Dropout(p=0.1, inplace=False)\n",
       "          )\n",
       "        )\n",
       "      )\n",
       "    )\n",
       "    (pooler): BertPooler(\n",
       "      (dense): Linear(in_features=768, out_features=768, bias=True)\n",
       "      (activation): Tanh()\n",
       "    )\n",
       "  )\n",
       "  (dropout): Dropout(p=0.1, inplace=False)\n",
       "  (dense): Linear(in_features=768, out_features=1, bias=True)\n",
       "  (loss_fct): MSELoss()\n",
       ")"
      ]
     },
     "execution_count": 16,
     "metadata": {},
     "output_type": "execute_result"
    }
   ],
   "source": [
    "model = BertForSequenceRegression.from_pretrained(\n",
    "    BERT_FP, \n",
    ")\n",
    "model.to(device)"
   ]
  },
  {
   "cell_type": "code",
   "execution_count": 17,
   "id": "enormous-coffee",
   "metadata": {
    "execution": {
     "iopub.execute_input": "2021-06-15T21:08:22.640805Z",
     "iopub.status.busy": "2021-06-15T21:08:22.639950Z",
     "iopub.status.idle": "2021-06-15T21:08:22.645806Z",
     "shell.execute_reply": "2021-06-15T21:08:22.645382Z",
     "shell.execute_reply.started": "2021-06-15T20:35:17.089214Z"
    },
    "papermill": {
     "duration": 0.039016,
     "end_time": "2021-06-15T21:08:22.645942",
     "exception": false,
     "start_time": "2021-06-15T21:08:22.606926",
     "status": "completed"
    },
    "tags": []
   },
   "outputs": [
    {
     "name": "stdout",
     "output_type": "stream",
     "text": [
      "The BERT model has 201 different named parameters.\n",
      "\n",
      "==== Embedding Layer ====\n",
      "\n",
      "bert.embeddings.word_embeddings.weight                  (30522, 768)\n",
      "bert.embeddings.position_embeddings.weight                (512, 768)\n",
      "bert.embeddings.token_type_embeddings.weight                (2, 768)\n",
      "bert.embeddings.LayerNorm.weight                              (768,)\n",
      "bert.embeddings.LayerNorm.bias                                (768,)\n",
      "\n",
      "==== First Transformer ====\n",
      "\n",
      "bert.encoder.layer.0.attention.self.query.weight          (768, 768)\n",
      "bert.encoder.layer.0.attention.self.query.bias                (768,)\n",
      "bert.encoder.layer.0.attention.self.key.weight            (768, 768)\n",
      "bert.encoder.layer.0.attention.self.key.bias                  (768,)\n",
      "bert.encoder.layer.0.attention.self.value.weight          (768, 768)\n",
      "bert.encoder.layer.0.attention.self.value.bias                (768,)\n",
      "bert.encoder.layer.0.attention.output.dense.weight        (768, 768)\n",
      "bert.encoder.layer.0.attention.output.dense.bias              (768,)\n",
      "bert.encoder.layer.0.attention.output.LayerNorm.weight        (768,)\n",
      "bert.encoder.layer.0.attention.output.LayerNorm.bias          (768,)\n",
      "bert.encoder.layer.0.intermediate.dense.weight           (3072, 768)\n",
      "bert.encoder.layer.0.intermediate.dense.bias                 (3072,)\n",
      "bert.encoder.layer.0.output.dense.weight                 (768, 3072)\n",
      "bert.encoder.layer.0.output.dense.bias                        (768,)\n",
      "bert.encoder.layer.0.output.LayerNorm.weight                  (768,)\n",
      "bert.encoder.layer.0.output.LayerNorm.bias                    (768,)\n",
      "\n",
      "==== Output Layer ====\n",
      "\n",
      "bert.pooler.dense.weight                                  (768, 768)\n",
      "bert.pooler.dense.bias                                        (768,)\n",
      "dense.weight                                                (1, 768)\n",
      "dense.bias                                                      (1,)\n"
     ]
    }
   ],
   "source": [
    "# Get all of the model's parameters as a list of tuples.\n",
    "params = list(model.named_parameters())\n",
    "\n",
    "print('The BERT model has {:} different named parameters.\\n'.format(len(params)))\n",
    "\n",
    "print('==== Embedding Layer ====\\n')\n",
    "\n",
    "for p in params[0:5]:\n",
    "    print(\"{:<55} {:>12}\".format(p[0], str(tuple(p[1].size()))))\n",
    "\n",
    "print('\\n==== First Transformer ====\\n')\n",
    "\n",
    "for p in params[5:21]:\n",
    "    print(\"{:<55} {:>12}\".format(p[0], str(tuple(p[1].size()))))\n",
    "\n",
    "print('\\n==== Output Layer ====\\n')\n",
    "\n",
    "for p in params[-4:]:\n",
    "    print(\"{:<55} {:>12}\".format(p[0], str(tuple(p[1].size()))))"
   ]
  },
  {
   "cell_type": "code",
   "execution_count": 18,
   "id": "comic-cabinet",
   "metadata": {
    "execution": {
     "iopub.execute_input": "2021-06-15T21:08:22.700137Z",
     "iopub.status.busy": "2021-06-15T21:08:22.699613Z",
     "iopub.status.idle": "2021-06-15T21:08:22.703476Z",
     "shell.execute_reply": "2021-06-15T21:08:22.703048Z",
     "shell.execute_reply.started": "2021-06-15T20:35:17.103493Z"
    },
    "papermill": {
     "duration": 0.03422,
     "end_time": "2021-06-15T21:08:22.703590",
     "exception": false,
     "start_time": "2021-06-15T21:08:22.669370",
     "status": "completed"
    },
    "tags": []
   },
   "outputs": [],
   "source": [
    "optimizer = AdamW(model.parameters(),\n",
    "                  lr = 5e-4,\n",
    "                  eps = 1e-6 \n",
    "                )"
   ]
  },
  {
   "cell_type": "code",
   "execution_count": 19,
   "id": "normal-locator",
   "metadata": {
    "execution": {
     "iopub.execute_input": "2021-06-15T21:08:22.757286Z",
     "iopub.status.busy": "2021-06-15T21:08:22.755766Z",
     "iopub.status.idle": "2021-06-15T21:08:22.758050Z",
     "shell.execute_reply": "2021-06-15T21:08:22.758467Z",
     "shell.execute_reply.started": "2021-06-15T20:35:17.121763Z"
    },
    "papermill": {
     "duration": 0.031108,
     "end_time": "2021-06-15T21:08:22.758600",
     "exception": false,
     "start_time": "2021-06-15T21:08:22.727492",
     "status": "completed"
    },
    "tags": []
   },
   "outputs": [],
   "source": [
    "from transformers import get_linear_schedule_with_warmup\n",
    "\n",
    "epochs = 3\n",
    "\n",
    "total_steps = len(train_dataloader) * epochs\n",
    "\n",
    "scheduler = get_linear_schedule_with_warmup(optimizer, \n",
    "                                            num_warmup_steps = 0,\n",
    "                                            num_training_steps = total_steps)"
   ]
  },
  {
   "cell_type": "code",
   "execution_count": 20,
   "id": "everyday-salvation",
   "metadata": {
    "execution": {
     "iopub.execute_input": "2021-06-15T21:08:22.836025Z",
     "iopub.status.busy": "2021-06-15T21:08:22.833596Z",
     "iopub.status.idle": "2021-06-15T21:08:22.838926Z",
     "shell.execute_reply": "2021-06-15T21:08:22.839475Z",
     "shell.execute_reply.started": "2021-06-15T20:35:17.131575Z"
    },
    "papermill": {
     "duration": 0.057718,
     "end_time": "2021-06-15T21:08:22.839659",
     "exception": false,
     "start_time": "2021-06-15T21:08:22.781941",
     "status": "completed"
    },
    "tags": []
   },
   "outputs": [],
   "source": [
    "# train only last layers\n",
    "set_trainable(model, True)\n",
    "set_trainable(model.bert.embeddings, False)\n",
    "set_trainable(model.bert.encoder, False)"
   ]
  },
  {
   "cell_type": "code",
   "execution_count": 21,
   "id": "crazy-southwest",
   "metadata": {
    "execution": {
     "iopub.execute_input": "2021-06-15T21:08:22.898616Z",
     "iopub.status.busy": "2021-06-15T21:08:22.898065Z",
     "iopub.status.idle": "2021-06-15T21:09:33.084166Z",
     "shell.execute_reply": "2021-06-15T21:09:33.083708Z",
     "shell.execute_reply.started": "2021-06-15T20:35:17.168468Z"
    },
    "papermill": {
     "duration": 70.220771,
     "end_time": "2021-06-15T21:09:33.084319",
     "exception": false,
     "start_time": "2021-06-15T21:08:22.863548",
     "status": "completed"
    },
    "tags": []
   },
   "outputs": [
    {
     "name": "stdout",
     "output_type": "stream",
     "text": [
      "\n",
      "======== Epoch 1 / 3 ========\n",
      "Train loss:  0.794433808662522\n",
      "Eval loss:  0.6440252131885953\n",
      "\n",
      "======== Epoch 2 / 3 ========\n",
      "Train loss:  0.6915803732166828\n",
      "Eval loss:  0.6265120373831855\n",
      "\n",
      "======== Epoch 3 / 3 ========\n",
      "Train loss:  0.6726178065152235\n",
      "Eval loss:  0.6571610354714923\n"
     ]
    }
   ],
   "source": [
    "for epoch_i in range(0, epochs):\n",
    "    print(\"\")\n",
    "    print('======== Epoch {:} / {:} ========'.format(epoch_i + 1, epochs))\n",
    "    # training\n",
    "    model.train()\n",
    "    tr_loss = []\n",
    "    for step, batch in enumerate(train_dataloader):\n",
    "        batch = tuple(t.to(device) for t in batch)\n",
    "        input_ids, input_mask, type_ids, target = batch\n",
    "        loss = model(input_ids, input_mask, type_ids, target)\n",
    "        tr_loss.append(loss.cpu().detach().numpy().tolist())\n",
    "        loss.backward()  \n",
    "        optimizer.step()\n",
    "        optimizer.zero_grad()  \n",
    "        scheduler.step()\n",
    "          \n",
    "    train_losses = np.mean(tr_loss)  \n",
    "    print(\"Train loss: \", train_losses)\n",
    "    all_targets, all_preds = [], []\n",
    "    model.eval()   \n",
    "    eval_loss = []\n",
    "    # evaluation\n",
    "    for batch in test_dataloader:\n",
    "        batch = tuple(t.to(device) for t in batch)\n",
    "        input_ids, input_mask, type_ids, target = batch\n",
    "        # disable gradients \n",
    "        with torch.no_grad():    \n",
    "            loss = model(input_ids, input_mask, type_ids, target)\n",
    "\n",
    "        eval_loss.append(loss.cpu().detach().numpy().tolist())\n",
    "                    \n",
    "    epoch_eval_loss = np.mean(eval_loss)\n",
    "    print(\"Eval loss: \", epoch_eval_loss)"
   ]
  },
  {
   "cell_type": "code",
   "execution_count": 22,
   "id": "elder-screw",
   "metadata": {
    "execution": {
     "iopub.execute_input": "2021-06-15T21:09:33.143116Z",
     "iopub.status.busy": "2021-06-15T21:09:33.142618Z",
     "iopub.status.idle": "2021-06-15T21:09:33.150958Z",
     "shell.execute_reply": "2021-06-15T21:09:33.150519Z",
     "shell.execute_reply.started": "2021-06-15T20:36:27.261200Z"
    },
    "papermill": {
     "duration": 0.040968,
     "end_time": "2021-06-15T21:09:33.151066",
     "exception": false,
     "start_time": "2021-06-15T21:09:33.110098",
     "status": "completed"
    },
    "tags": []
   },
   "outputs": [],
   "source": [
    "test = pd.read_csv('../input/commonlitreadabilityprize/test.csv')"
   ]
  },
  {
   "cell_type": "code",
   "execution_count": 23,
   "id": "incorrect-ethics",
   "metadata": {
    "execution": {
     "iopub.execute_input": "2021-06-15T21:09:33.208154Z",
     "iopub.status.busy": "2021-06-15T21:09:33.207377Z",
     "iopub.status.idle": "2021-06-15T21:09:33.216992Z",
     "shell.execute_reply": "2021-06-15T21:09:33.216532Z",
     "shell.execute_reply.started": "2021-06-15T20:36:27.285082Z"
    },
    "papermill": {
     "duration": 0.040214,
     "end_time": "2021-06-15T21:09:33.217099",
     "exception": false,
     "start_time": "2021-06-15T21:09:33.176885",
     "status": "completed"
    },
    "tags": []
   },
   "outputs": [],
   "source": [
    "test[\"text\"] = test[\"excerpt\"].apply(lambda x: text_preprocessing(x))"
   ]
  },
  {
   "cell_type": "code",
   "execution_count": 24,
   "id": "closing-nudist",
   "metadata": {
    "execution": {
     "iopub.execute_input": "2021-06-15T21:09:33.271665Z",
     "iopub.status.busy": "2021-06-15T21:09:33.270921Z",
     "iopub.status.idle": "2021-06-15T21:09:33.273279Z",
     "shell.execute_reply": "2021-06-15T21:09:33.273652Z",
     "shell.execute_reply.started": "2021-06-15T20:36:27.307633Z"
    },
    "papermill": {
     "duration": 0.031502,
     "end_time": "2021-06-15T21:09:33.273780",
     "exception": false,
     "start_time": "2021-06-15T21:09:33.242278",
     "status": "completed"
    },
    "tags": []
   },
   "outputs": [],
   "source": [
    "excerpts = test.text.values"
   ]
  },
  {
   "cell_type": "code",
   "execution_count": 25,
   "id": "alien-brunei",
   "metadata": {
    "execution": {
     "iopub.execute_input": "2021-06-15T21:09:33.347450Z",
     "iopub.status.busy": "2021-06-15T21:09:33.342363Z",
     "iopub.status.idle": "2021-06-15T21:09:33.359022Z",
     "shell.execute_reply": "2021-06-15T21:09:33.358618Z",
     "shell.execute_reply.started": "2021-06-15T20:36:27.319886Z"
    },
    "papermill": {
     "duration": 0.060297,
     "end_time": "2021-06-15T21:09:33.359141",
     "exception": false,
     "start_time": "2021-06-15T21:09:33.298844",
     "status": "completed"
    },
    "tags": []
   },
   "outputs": [],
   "source": [
    "# convert sentences into tokens\n",
    "input_ids = [tokenizer.encode(excerpt, add_special_tokens = True, max_length = MAX_LENGTH,\n",
    "                              padding='max_length') for excerpt in excerpts]\n",
    "\n",
    "input_ids = np.array(input_ids)\n",
    "attention_masks = []\n",
    "# create a mask of 1 for all input tokens and 0 for all padding tokens\n",
    "attention_masks = [[float(i>0) for i in seq] for seq in input_ids]\n",
    "attention_masks = np.array(attention_masks)\n",
    "# create token type ids\n",
    "token_type_ids = [[0 for i in seq] for seq in input_ids]\n",
    "token_type_ids = np.array(token_type_ids)"
   ]
  },
  {
   "cell_type": "code",
   "execution_count": 26,
   "id": "planned-being",
   "metadata": {
    "execution": {
     "iopub.execute_input": "2021-06-15T21:09:33.415048Z",
     "iopub.status.busy": "2021-06-15T21:09:33.414503Z",
     "iopub.status.idle": "2021-06-15T21:09:33.417022Z",
     "shell.execute_reply": "2021-06-15T21:09:33.417484Z",
     "shell.execute_reply.started": "2021-06-15T20:36:27.376728Z"
    },
    "papermill": {
     "duration": 0.03295,
     "end_time": "2021-06-15T21:09:33.417621",
     "exception": false,
     "start_time": "2021-06-15T21:09:33.384671",
     "status": "completed"
    },
    "tags": []
   },
   "outputs": [],
   "source": [
    "input_ids = torch.tensor(input_ids, dtype=torch.long)\n",
    "attention_masks = torch.tensor(attention_masks, dtype=torch.long)\n",
    "token_type_ids = torch.tensor(token_type_ids, dtype=torch.long)"
   ]
  },
  {
   "cell_type": "code",
   "execution_count": 27,
   "id": "isolated-gibson",
   "metadata": {
    "execution": {
     "iopub.execute_input": "2021-06-15T21:09:33.472989Z",
     "iopub.status.busy": "2021-06-15T21:09:33.472207Z",
     "iopub.status.idle": "2021-06-15T21:09:33.474900Z",
     "shell.execute_reply": "2021-06-15T21:09:33.474497Z",
     "shell.execute_reply.started": "2021-06-15T20:36:27.389833Z"
    },
    "papermill": {
     "duration": 0.032082,
     "end_time": "2021-06-15T21:09:33.475023",
     "exception": false,
     "start_time": "2021-06-15T21:09:33.442941",
     "status": "completed"
    },
    "tags": []
   },
   "outputs": [],
   "source": [
    "prediction_data = TensorDataset(input_ids, attention_masks, token_type_ids)\n",
    "prediction_sampler = SequentialSampler(prediction_data)\n",
    "prediction_dataloader = DataLoader(prediction_data, sampler=prediction_sampler, batch_size=BATCH_SIZE)"
   ]
  },
  {
   "cell_type": "code",
   "execution_count": 28,
   "id": "assigned-decade",
   "metadata": {
    "execution": {
     "iopub.execute_input": "2021-06-15T21:09:33.532509Z",
     "iopub.status.busy": "2021-06-15T21:09:33.531696Z",
     "iopub.status.idle": "2021-06-15T21:09:33.594524Z",
     "shell.execute_reply": "2021-06-15T21:09:33.594917Z",
     "shell.execute_reply.started": "2021-06-15T21:06:00.105546Z"
    },
    "papermill": {
     "duration": 0.094814,
     "end_time": "2021-06-15T21:09:33.595072",
     "exception": false,
     "start_time": "2021-06-15T21:09:33.500258",
     "status": "completed"
    },
    "tags": []
   },
   "outputs": [],
   "source": [
    "model.eval()   \n",
    "predictions , true_labels = [], []\n",
    "# evaluation\n",
    "for batch in prediction_dataloader:\n",
    "    # disable gradients \n",
    "    batch = tuple(t.to(device) for t in batch)\n",
    "    input_ids, input_mask, type_ids = batch\n",
    "    with torch.no_grad():    \n",
    "        outputs = model(input_ids, input_mask, type_ids) \n",
    "    output = outputs.cpu().detach().numpy().tolist()\n",
    "    predictions += output"
   ]
  },
  {
   "cell_type": "code",
   "execution_count": 29,
   "id": "cleared-ideal",
   "metadata": {
    "execution": {
     "iopub.execute_input": "2021-06-15T21:09:33.651543Z",
     "iopub.status.busy": "2021-06-15T21:09:33.650739Z",
     "iopub.status.idle": "2021-06-15T21:09:33.653063Z",
     "shell.execute_reply": "2021-06-15T21:09:33.653451Z",
     "shell.execute_reply.started": "2021-06-15T21:06:10.141063Z"
    },
    "papermill": {
     "duration": 0.032815,
     "end_time": "2021-06-15T21:09:33.653586",
     "exception": false,
     "start_time": "2021-06-15T21:09:33.620771",
     "status": "completed"
    },
    "tags": []
   },
   "outputs": [],
   "source": [
    "submission = pd.DataFrame({'id':test['id'],'target':predictions})"
   ]
  },
  {
   "cell_type": "code",
   "execution_count": 30,
   "id": "lightweight-edward",
   "metadata": {
    "execution": {
     "iopub.execute_input": "2021-06-15T21:09:33.708400Z",
     "iopub.status.busy": "2021-06-15T21:09:33.707622Z",
     "iopub.status.idle": "2021-06-15T21:09:33.828106Z",
     "shell.execute_reply": "2021-06-15T21:09:33.827596Z"
    },
    "papermill": {
     "duration": 0.149417,
     "end_time": "2021-06-15T21:09:33.828262",
     "exception": false,
     "start_time": "2021-06-15T21:09:33.678845",
     "status": "completed"
    },
    "tags": []
   },
   "outputs": [],
   "source": [
    "submission.to_csv('submission.csv',index=False)"
   ]
  },
  {
   "cell_type": "code",
   "execution_count": 31,
   "id": "right-showcase",
   "metadata": {
    "execution": {
     "iopub.execute_input": "2021-06-15T21:09:33.896261Z",
     "iopub.status.busy": "2021-06-15T21:09:33.895538Z",
     "iopub.status.idle": "2021-06-15T21:09:33.898310Z",
     "shell.execute_reply": "2021-06-15T21:09:33.897876Z"
    },
    "papermill": {
     "duration": 0.043899,
     "end_time": "2021-06-15T21:09:33.898427",
     "exception": false,
     "start_time": "2021-06-15T21:09:33.854528",
     "status": "completed"
    },
    "tags": []
   },
   "outputs": [],
   "source": [
    "torch.cuda.empty_cache()"
   ]
  },
  {
   "cell_type": "code",
   "execution_count": 32,
   "id": "about-testing",
   "metadata": {
    "execution": {
     "iopub.execute_input": "2021-06-15T21:09:33.953246Z",
     "iopub.status.busy": "2021-06-15T21:09:33.952408Z",
     "iopub.status.idle": "2021-06-15T21:09:33.955091Z",
     "shell.execute_reply": "2021-06-15T21:09:33.954691Z"
    },
    "papermill": {
     "duration": 0.031558,
     "end_time": "2021-06-15T21:09:33.955217",
     "exception": false,
     "start_time": "2021-06-15T21:09:33.923659",
     "status": "completed"
    },
    "tags": []
   },
   "outputs": [],
   "source": [
    "# Tokenize all of the sentences and map the tokens to thier word IDs.\n",
    "# input_ids = []\n",
    "# attention_masks = []\n",
    "# token_type_ids = []\n",
    "\n",
    "# for excerpt in excerpts:\n",
    "#     encoded_dict = tokenizer.encode_plus(\n",
    "#                         excerpt,                      \n",
    "#                         add_special_tokens = True, \n",
    "#                         max_length = MAX_LENGTH,           \n",
    "#                         padding = \"max_length\"\n",
    "#                    )\n",
    "    \n",
    "       \n",
    "#     input_ids.append(encoded_dict['input_ids'])\n",
    "    \n",
    "#     attention_masks.append(encoded_dict['attention_mask'])\n",
    "    \n",
    "#     token_type_ids.append(encoded_dict[\"token_type_ids\"])"
   ]
  }
 ],
 "metadata": {
  "kernelspec": {
   "display_name": "Python 3",
   "language": "python",
   "name": "python3"
  },
  "language_info": {
   "codemirror_mode": {
    "name": "ipython",
    "version": 3
   },
   "file_extension": ".py",
   "mimetype": "text/x-python",
   "name": "python",
   "nbconvert_exporter": "python",
   "pygments_lexer": "ipython3",
   "version": "3.7.10"
  },
  "papermill": {
   "default_parameters": {},
   "duration": 125.809242,
   "end_time": "2021-06-15T21:09:36.748849",
   "environment_variables": {},
   "exception": null,
   "input_path": "__notebook__.ipynb",
   "output_path": "__notebook__.ipynb",
   "parameters": {},
   "start_time": "2021-06-15T21:07:30.939607",
   "version": "2.3.3"
  }
 },
 "nbformat": 4,
 "nbformat_minor": 5
}
