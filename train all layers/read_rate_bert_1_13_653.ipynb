{
 "cells": [
  {
   "cell_type": "code",
   "execution_count": 1,
   "id": "unexpected-rhythm",
   "metadata": {
    "_cell_guid": "b1076dfc-b9ad-4769-8c92-a6c4dae69d19",
    "_uuid": "8f2839f25d086af736a60e9eeb907d3b93b6e0e5",
    "execution": {
     "iopub.execute_input": "2021-06-28T11:33:20.774040Z",
     "iopub.status.busy": "2021-06-28T11:33:20.764520Z",
     "iopub.status.idle": "2021-06-28T11:33:32.954573Z",
     "shell.execute_reply": "2021-06-28T11:33:32.953984Z",
     "shell.execute_reply.started": "2021-06-28T11:27:54.137697Z"
    },
    "papermill": {
     "duration": 12.219382,
     "end_time": "2021-06-28T11:33:32.954736",
     "exception": false,
     "start_time": "2021-06-28T11:33:20.735354",
     "status": "completed"
    },
    "tags": []
   },
   "outputs": [],
   "source": [
    "import string\n",
    "import copy\n",
    "import time\n",
    "%matplotlib inline\n",
    "import os\n",
    "# os.listdir(\"../input/\")\n",
    "import torch\n",
    "import torch.nn as nn\n",
    "import pandas as pd\n",
    "import numpy as np\n",
    "os.system('pip install pytorch_pretrained_bert --no-index --find-links=\"../input/pytorch-pretrained-bert/pytorch_pretrained_bert\" ')\n",
    "from torch.utils.data import Dataset, TensorDataset, DataLoader, RandomSampler, SequentialSampler\n",
    "from transformers.models.bert.modeling_bert import BertPreTrainedModel, BertModel\n",
    "from transformers import BertTokenizer\n",
    "from transformers import BertForSequenceClassification, AdamW, BertConfig\n",
    "import random\n",
    "from transformers import get_linear_schedule_with_warmup\n",
    "from torch.cuda.amp import GradScaler, autocast\n",
    "import warnings\n",
    "warnings.filterwarnings(\"ignore\")\n",
    "import matplotlib.pyplot as plt\n",
    "from torch.utils.tensorboard import SummaryWriter\n",
    "\n",
    "SEED = 42\n",
    "BATCH_SIZE = 32\n",
    "MAX_LENGTH = 356\n",
    "BERT_FP = '../input/bert-base-uncased'\n",
    "device = torch.device(\"cuda\" if torch.cuda.is_available() else \"cpu\")\n",
    "n_gpu = torch.cuda.device_count()\n",
    "\n",
    "random.seed(SEED)\n",
    "np.random.seed(SEED)\n",
    "torch.manual_seed(SEED)\n",
    "if n_gpu > 0:\n",
    "    torch.cuda.manual_seed_all(SEED)"
   ]
  },
  {
   "cell_type": "code",
   "execution_count": 2,
   "id": "challenging-annex",
   "metadata": {
    "execution": {
     "iopub.execute_input": "2021-06-28T11:33:33.002729Z",
     "iopub.status.busy": "2021-06-28T11:33:33.001997Z",
     "iopub.status.idle": "2021-06-28T11:33:33.004179Z",
     "shell.execute_reply": "2021-06-28T11:33:33.004589Z",
     "shell.execute_reply.started": "2021-06-28T11:27:58.759528Z"
    },
    "papermill": {
     "duration": 0.02696,
     "end_time": "2021-06-28T11:33:33.004721",
     "exception": false,
     "start_time": "2021-06-28T11:33:32.977761",
     "status": "completed"
    },
    "tags": []
   },
   "outputs": [],
   "source": [
    "import datetime\n",
    "\n",
    "def format_time(elapsed):\n",
    "    '''\n",
    "    Takes a time in seconds and returns a string hh:mm:ss\n",
    "    '''\n",
    "    # Round to the nearest second.\n",
    "    elapsed_rounded = int(round((elapsed)))\n",
    "    \n",
    "    # Format as hh:mm:ss\n",
    "    return str(datetime.timedelta(seconds=elapsed_rounded))"
   ]
  },
  {
   "cell_type": "code",
   "execution_count": 3,
   "id": "future-battery",
   "metadata": {
    "execution": {
     "iopub.execute_input": "2021-06-28T11:33:33.050995Z",
     "iopub.status.busy": "2021-06-28T11:33:33.050331Z",
     "iopub.status.idle": "2021-06-28T11:33:33.053291Z",
     "shell.execute_reply": "2021-06-28T11:33:33.052819Z",
     "shell.execute_reply.started": "2021-06-28T11:27:58.766138Z"
    },
    "papermill": {
     "duration": 0.02878,
     "end_time": "2021-06-28T11:33:33.053420",
     "exception": false,
     "start_time": "2021-06-28T11:33:33.024640",
     "status": "completed"
    },
    "tags": []
   },
   "outputs": [],
   "source": [
    "def children(m):\n",
    "    return m if isinstance(m, (list, tuple)) else list(m.children())\n",
    "\n",
    "\n",
    "def set_trainable_attr(m, b):\n",
    "    m.trainable = b\n",
    "    for p in m.parameters():\n",
    "        p.requires_grad = b\n",
    "\n",
    "\n",
    "def apply_leaf(m, f):\n",
    "    c = children(m)\n",
    "    if isinstance(m, nn.Module):\n",
    "        f(m)\n",
    "    if len(c) > 0:\n",
    "        for l in c:\n",
    "            apply_leaf(l, f)\n",
    "\n",
    "\n",
    "def set_trainable(l, b):\n",
    "    apply_leaf(l, lambda m: set_trainable_attr(m, b))"
   ]
  },
  {
   "cell_type": "code",
   "execution_count": 4,
   "id": "engaged-macro",
   "metadata": {
    "execution": {
     "iopub.execute_input": "2021-06-28T11:33:33.099849Z",
     "iopub.status.busy": "2021-06-28T11:33:33.099202Z",
     "iopub.status.idle": "2021-06-28T11:33:33.101834Z",
     "shell.execute_reply": "2021-06-28T11:33:33.101428Z",
     "shell.execute_reply.started": "2021-06-28T11:27:58.777128Z"
    },
    "papermill": {
     "duration": 0.028428,
     "end_time": "2021-06-28T11:33:33.101937",
     "exception": false,
     "start_time": "2021-06-28T11:33:33.073509",
     "status": "completed"
    },
    "tags": []
   },
   "outputs": [],
   "source": [
    "class BertForSequenceRegression(nn.Module):\n",
    "    def __init__(self):\n",
    "        super(BertForSequenceRegression, self).__init__()\n",
    "        self.bert = BertModel.from_pretrained(BERT_FP)\n",
    "        self.dropout = nn.Dropout(0.1)\n",
    "        self.linear1 = nn.Linear(768, 256)\n",
    "        self.relu = nn.ReLU()\n",
    "        self.linear2 = nn.Linear(256, 1)\n",
    "\n",
    "    def forward(self, ids,  token_type_ids, attention_mask):\n",
    "        _, pooled_output = self.bert(ids, token_type_ids, attention_mask, return_dict=False)\n",
    "        pooled_output = self.dropout(pooled_output)\n",
    "        pooled_output = self.linear1(pooled_output)\n",
    "        pooled_output = self.relu(pooled_output)\n",
    "        outputs = self.linear2(pooled_output)\n",
    "        return outputs.view(-1)"
   ]
  },
  {
   "cell_type": "code",
   "execution_count": 5,
   "id": "engaging-perry",
   "metadata": {
    "execution": {
     "iopub.execute_input": "2021-06-28T11:33:33.146215Z",
     "iopub.status.busy": "2021-06-28T11:33:33.145730Z",
     "iopub.status.idle": "2021-06-28T11:33:33.149328Z",
     "shell.execute_reply": "2021-06-28T11:33:33.148937Z",
     "shell.execute_reply.started": "2021-06-28T11:27:58.789649Z"
    },
    "papermill": {
     "duration": 0.027494,
     "end_time": "2021-06-28T11:33:33.149431",
     "exception": false,
     "start_time": "2021-06-28T11:33:33.121937",
     "status": "completed"
    },
    "tags": []
   },
   "outputs": [],
   "source": [
    "def RMSELoss(outputs, targets):\n",
    "    return torch.sqrt(nn.MSELoss()(outputs, targets))"
   ]
  },
  {
   "cell_type": "code",
   "execution_count": 6,
   "id": "collectible-dryer",
   "metadata": {
    "execution": {
     "iopub.execute_input": "2021-06-28T11:33:33.196917Z",
     "iopub.status.busy": "2021-06-28T11:33:33.196398Z",
     "iopub.status.idle": "2021-06-28T11:33:33.956669Z",
     "shell.execute_reply": "2021-06-28T11:33:33.955580Z",
     "shell.execute_reply.started": "2021-06-28T11:27:58.802232Z"
    },
    "papermill": {
     "duration": 0.787408,
     "end_time": "2021-06-28T11:33:33.956805",
     "exception": false,
     "start_time": "2021-06-28T11:33:33.169397",
     "status": "completed"
    },
    "tags": []
   },
   "outputs": [],
   "source": [
    "from sklearn.model_selection import RepeatedStratifiedKFold\n",
    "from sklearn.preprocessing import KBinsDiscretizer\n",
    "\n",
    "class regressor_stratified_cv:\n",
    "    def __init__(self, n_splits = 10, n_repeats = 2, group_count = 10,\n",
    "                 random_state = 0, strategy = 'quantile'):\n",
    "        self.group_count = group_count\n",
    "        self.strategy = strategy\n",
    "        self.cvkwargs = dict(n_splits = n_splits, n_repeats = n_repeats, \n",
    "                             random_state = random_state)\n",
    "        self.cv = RepeatedStratifiedKFold(**self.cvkwargs)\n",
    "        self.discretizer = KBinsDiscretizer(n_bins = self.group_count, encode = 'ordinal',\n",
    "                                            strategy = self.strategy)  \n",
    "            \n",
    "    def split(self, X, y, groups = None):\n",
    "        kgroups=self.discretizer.fit_transform(y[:, None])[:, 0]\n",
    "        return self.cv.split(X, kgroups, groups)\n",
    "    \n",
    "    def get_n_splits(self, X, y, groups = None):\n",
    "        return self.cv.get_n_splits(X, y, groups)"
   ]
  },
  {
   "cell_type": "code",
   "execution_count": 7,
   "id": "indie-contrast",
   "metadata": {
    "execution": {
     "iopub.execute_input": "2021-06-28T11:33:34.058575Z",
     "iopub.status.busy": "2021-06-28T11:33:34.057730Z",
     "iopub.status.idle": "2021-06-28T11:33:34.060217Z",
     "shell.execute_reply": "2021-06-28T11:33:34.059558Z",
     "shell.execute_reply.started": "2021-06-28T11:27:58.812722Z"
    },
    "papermill": {
     "duration": 0.055488,
     "end_time": "2021-06-28T11:33:34.060368",
     "exception": false,
     "start_time": "2021-06-28T11:33:34.004880",
     "status": "completed"
    },
    "tags": []
   },
   "outputs": [],
   "source": [
    "def text_preprocessing(excerpt):\n",
    "    \n",
    "    # lower casing\n",
    "    excerpt = excerpt.lower()\n",
    "\n",
    "    # removal of punctuation\n",
    "    excerpt = excerpt.translate(str.maketrans('', '', string.punctuation))\n",
    "\n",
    "        \n",
    "    # removal of stopwords\n",
    "#     from nltk.corpus import stopwords\n",
    "#     \", \".join(stopwords.words('english'))\n",
    "#     STOPWORDS = set(stopwords.words('english'))\n",
    "#     excerpt = \" \".join([word for word in str(excerpt).split() if word not in STOPWORDS])\n",
    "        \n",
    "    # lemmatization \n",
    "    from nltk.stem import WordNetLemmatizer\n",
    "    lemmatizer = WordNetLemmatizer()\n",
    "    excerpt = \" \".join([lemmatizer.lemmatize(word) for word in excerpt.split()])\n",
    "        \n",
    "                \n",
    "    return excerpt"
   ]
  },
  {
   "cell_type": "code",
   "execution_count": 8,
   "id": "smoking-crest",
   "metadata": {
    "execution": {
     "iopub.execute_input": "2021-06-28T11:33:34.142610Z",
     "iopub.status.busy": "2021-06-28T11:33:34.141875Z",
     "iopub.status.idle": "2021-06-28T11:33:34.257293Z",
     "shell.execute_reply": "2021-06-28T11:33:34.258368Z",
     "shell.execute_reply.started": "2021-06-28T11:27:58.822007Z"
    },
    "papermill": {
     "duration": 0.159544,
     "end_time": "2021-06-28T11:33:34.258571",
     "exception": false,
     "start_time": "2021-06-28T11:33:34.099027",
     "status": "completed"
    },
    "tags": []
   },
   "outputs": [
    {
     "data": {
      "text/html": [
       "<div>\n",
       "<style scoped>\n",
       "    .dataframe tbody tr th:only-of-type {\n",
       "        vertical-align: middle;\n",
       "    }\n",
       "\n",
       "    .dataframe tbody tr th {\n",
       "        vertical-align: top;\n",
       "    }\n",
       "\n",
       "    .dataframe thead th {\n",
       "        text-align: right;\n",
       "    }\n",
       "</style>\n",
       "<table border=\"1\" class=\"dataframe\">\n",
       "  <thead>\n",
       "    <tr style=\"text-align: right;\">\n",
       "      <th></th>\n",
       "      <th>id</th>\n",
       "      <th>url_legal</th>\n",
       "      <th>license</th>\n",
       "      <th>excerpt</th>\n",
       "      <th>target</th>\n",
       "      <th>standard_error</th>\n",
       "    </tr>\n",
       "  </thead>\n",
       "  <tbody>\n",
       "    <tr>\n",
       "      <th>0</th>\n",
       "      <td>c12129c31</td>\n",
       "      <td>NaN</td>\n",
       "      <td>NaN</td>\n",
       "      <td>When the young people returned to the ballroom...</td>\n",
       "      <td>-0.340259</td>\n",
       "      <td>0.464009</td>\n",
       "    </tr>\n",
       "    <tr>\n",
       "      <th>1</th>\n",
       "      <td>85aa80a4c</td>\n",
       "      <td>NaN</td>\n",
       "      <td>NaN</td>\n",
       "      <td>All through dinner time, Mrs. Fayre was somewh...</td>\n",
       "      <td>-0.315372</td>\n",
       "      <td>0.480805</td>\n",
       "    </tr>\n",
       "    <tr>\n",
       "      <th>2</th>\n",
       "      <td>b69ac6792</td>\n",
       "      <td>NaN</td>\n",
       "      <td>NaN</td>\n",
       "      <td>As Roger had predicted, the snow departed as q...</td>\n",
       "      <td>-0.580118</td>\n",
       "      <td>0.476676</td>\n",
       "    </tr>\n",
       "    <tr>\n",
       "      <th>3</th>\n",
       "      <td>dd1000b26</td>\n",
       "      <td>NaN</td>\n",
       "      <td>NaN</td>\n",
       "      <td>And outside before the palace a great garden w...</td>\n",
       "      <td>-1.054013</td>\n",
       "      <td>0.450007</td>\n",
       "    </tr>\n",
       "    <tr>\n",
       "      <th>4</th>\n",
       "      <td>37c1b32fb</td>\n",
       "      <td>NaN</td>\n",
       "      <td>NaN</td>\n",
       "      <td>Once upon a time there were Three Bears who li...</td>\n",
       "      <td>0.247197</td>\n",
       "      <td>0.510845</td>\n",
       "    </tr>\n",
       "    <tr>\n",
       "      <th>...</th>\n",
       "      <td>...</td>\n",
       "      <td>...</td>\n",
       "      <td>...</td>\n",
       "      <td>...</td>\n",
       "      <td>...</td>\n",
       "      <td>...</td>\n",
       "    </tr>\n",
       "    <tr>\n",
       "      <th>2829</th>\n",
       "      <td>25ca8f498</td>\n",
       "      <td>https://sites.ehe.osu.edu/beyondpenguins/files...</td>\n",
       "      <td>CC BY-SA 3.0</td>\n",
       "      <td>When you think of dinosaurs and where they liv...</td>\n",
       "      <td>1.711390</td>\n",
       "      <td>0.646900</td>\n",
       "    </tr>\n",
       "    <tr>\n",
       "      <th>2830</th>\n",
       "      <td>2c26db523</td>\n",
       "      <td>https://en.wikibooks.org/wiki/Wikijunior:The_E...</td>\n",
       "      <td>CC BY-SA 3.0</td>\n",
       "      <td>So what is a solid? Solids are usually hard be...</td>\n",
       "      <td>0.189476</td>\n",
       "      <td>0.535648</td>\n",
       "    </tr>\n",
       "    <tr>\n",
       "      <th>2831</th>\n",
       "      <td>cd19e2350</td>\n",
       "      <td>https://en.wikibooks.org/wiki/Wikijunior:The_E...</td>\n",
       "      <td>CC BY-SA 3.0</td>\n",
       "      <td>The second state of matter we will discuss is ...</td>\n",
       "      <td>0.255209</td>\n",
       "      <td>0.483866</td>\n",
       "    </tr>\n",
       "    <tr>\n",
       "      <th>2832</th>\n",
       "      <td>15e2e9e7a</td>\n",
       "      <td>https://en.wikibooks.org/wiki/Geometry_for_Ele...</td>\n",
       "      <td>CC BY-SA 3.0</td>\n",
       "      <td>Solids are shapes that you can actually touch....</td>\n",
       "      <td>-0.215279</td>\n",
       "      <td>0.514128</td>\n",
       "    </tr>\n",
       "    <tr>\n",
       "      <th>2833</th>\n",
       "      <td>5b990ba77</td>\n",
       "      <td>https://en.wikibooks.org/wiki/Wikijunior:Biolo...</td>\n",
       "      <td>CC BY-SA 3.0</td>\n",
       "      <td>Animals are made of many cells. They eat thing...</td>\n",
       "      <td>0.300779</td>\n",
       "      <td>0.512379</td>\n",
       "    </tr>\n",
       "  </tbody>\n",
       "</table>\n",
       "<p>2834 rows × 6 columns</p>\n",
       "</div>"
      ],
      "text/plain": [
       "             id                                          url_legal  \\\n",
       "0     c12129c31                                                NaN   \n",
       "1     85aa80a4c                                                NaN   \n",
       "2     b69ac6792                                                NaN   \n",
       "3     dd1000b26                                                NaN   \n",
       "4     37c1b32fb                                                NaN   \n",
       "...         ...                                                ...   \n",
       "2829  25ca8f498  https://sites.ehe.osu.edu/beyondpenguins/files...   \n",
       "2830  2c26db523  https://en.wikibooks.org/wiki/Wikijunior:The_E...   \n",
       "2831  cd19e2350  https://en.wikibooks.org/wiki/Wikijunior:The_E...   \n",
       "2832  15e2e9e7a  https://en.wikibooks.org/wiki/Geometry_for_Ele...   \n",
       "2833  5b990ba77  https://en.wikibooks.org/wiki/Wikijunior:Biolo...   \n",
       "\n",
       "           license                                            excerpt  \\\n",
       "0              NaN  When the young people returned to the ballroom...   \n",
       "1              NaN  All through dinner time, Mrs. Fayre was somewh...   \n",
       "2              NaN  As Roger had predicted, the snow departed as q...   \n",
       "3              NaN  And outside before the palace a great garden w...   \n",
       "4              NaN  Once upon a time there were Three Bears who li...   \n",
       "...            ...                                                ...   \n",
       "2829  CC BY-SA 3.0  When you think of dinosaurs and where they liv...   \n",
       "2830  CC BY-SA 3.0  So what is a solid? Solids are usually hard be...   \n",
       "2831  CC BY-SA 3.0  The second state of matter we will discuss is ...   \n",
       "2832  CC BY-SA 3.0  Solids are shapes that you can actually touch....   \n",
       "2833  CC BY-SA 3.0  Animals are made of many cells. They eat thing...   \n",
       "\n",
       "        target  standard_error  \n",
       "0    -0.340259        0.464009  \n",
       "1    -0.315372        0.480805  \n",
       "2    -0.580118        0.476676  \n",
       "3    -1.054013        0.450007  \n",
       "4     0.247197        0.510845  \n",
       "...        ...             ...  \n",
       "2829  1.711390        0.646900  \n",
       "2830  0.189476        0.535648  \n",
       "2831  0.255209        0.483866  \n",
       "2832 -0.215279        0.514128  \n",
       "2833  0.300779        0.512379  \n",
       "\n",
       "[2834 rows x 6 columns]"
      ]
     },
     "execution_count": 8,
     "metadata": {},
     "output_type": "execute_result"
    }
   ],
   "source": [
    "df = pd.read_csv('../input/commonlitreadabilityprize/train.csv')\n",
    "df"
   ]
  },
  {
   "cell_type": "code",
   "execution_count": 9,
   "id": "alert-stock",
   "metadata": {
    "execution": {
     "iopub.execute_input": "2021-06-28T11:33:34.343007Z",
     "iopub.status.busy": "2021-06-28T11:33:34.341217Z",
     "iopub.status.idle": "2021-06-28T11:33:39.015066Z",
     "shell.execute_reply": "2021-06-28T11:33:39.014059Z",
     "shell.execute_reply.started": "2021-06-28T11:27:58.887426Z"
    },
    "papermill": {
     "duration": 4.718461,
     "end_time": "2021-06-28T11:33:39.015232",
     "exception": false,
     "start_time": "2021-06-28T11:33:34.296771",
     "status": "completed"
    },
    "tags": []
   },
   "outputs": [],
   "source": [
    "df[\"text\"] = df[\"excerpt\"].apply(lambda x: text_preprocessing(x))"
   ]
  },
  {
   "cell_type": "code",
   "execution_count": 10,
   "id": "peaceful-taylor",
   "metadata": {
    "execution": {
     "iopub.execute_input": "2021-06-28T11:33:39.062136Z",
     "iopub.status.busy": "2021-06-28T11:33:39.061623Z",
     "iopub.status.idle": "2021-06-28T11:33:39.065324Z",
     "shell.execute_reply": "2021-06-28T11:33:39.064924Z",
     "shell.execute_reply.started": "2021-06-28T11:28:01.238917Z"
    },
    "papermill": {
     "duration": 0.027944,
     "end_time": "2021-06-28T11:33:39.065433",
     "exception": false,
     "start_time": "2021-06-28T11:33:39.037489",
     "status": "completed"
    },
    "tags": []
   },
   "outputs": [],
   "source": [
    "excerpts = df.text.values\n",
    "targets = df.target.values"
   ]
  },
  {
   "cell_type": "code",
   "execution_count": 11,
   "id": "eleven-healing",
   "metadata": {
    "execution": {
     "iopub.execute_input": "2021-06-28T11:33:39.112400Z",
     "iopub.status.busy": "2021-06-28T11:33:39.111846Z",
     "iopub.status.idle": "2021-06-28T11:33:39.157898Z",
     "shell.execute_reply": "2021-06-28T11:33:39.157417Z",
     "shell.execute_reply.started": "2021-06-28T11:28:01.248392Z"
    },
    "papermill": {
     "duration": 0.071419,
     "end_time": "2021-06-28T11:33:39.158015",
     "exception": false,
     "start_time": "2021-06-28T11:33:39.086596",
     "status": "completed"
    },
    "tags": []
   },
   "outputs": [],
   "source": [
    "# Load the BERT tokenizer.\n",
    "tokenizer = BertTokenizer.from_pretrained(BERT_FP, do_lower_case=True)"
   ]
  },
  {
   "cell_type": "code",
   "execution_count": 12,
   "id": "patient-incident",
   "metadata": {
    "execution": {
     "iopub.execute_input": "2021-06-28T11:33:39.211242Z",
     "iopub.status.busy": "2021-06-28T11:33:39.209733Z",
     "iopub.status.idle": "2021-06-28T11:33:39.211980Z",
     "shell.execute_reply": "2021-06-28T11:33:39.212446Z",
     "shell.execute_reply.started": "2021-06-28T11:28:01.292989Z"
    },
    "papermill": {
     "duration": 0.032755,
     "end_time": "2021-06-28T11:33:39.212602",
     "exception": false,
     "start_time": "2021-06-28T11:33:39.179847",
     "status": "completed"
    },
    "tags": []
   },
   "outputs": [],
   "source": [
    "class TokenDataset(Dataset):\n",
    "    def __init__(self, tokenizer, text, target = None, is_test=False):\n",
    "        self.text = text\n",
    "        self.target = target\n",
    "        self.is_test = is_test\n",
    "        self.max_len = MAX_LENGTH\n",
    "        self.tokenizer = tokenizer\n",
    "        \n",
    "    def __len__(self):\n",
    "        return len(self.text)\n",
    "    \n",
    "    def __getitem__(self, idx):\n",
    "        text = str(self.text[idx])\n",
    "        text = ' '.join(text.split())\n",
    "        inputs = self.tokenizer.encode_plus(\n",
    "            text,\n",
    "            None,\n",
    "            truncation=True,\n",
    "            add_special_tokens=True,\n",
    "            max_length = self.max_len,\n",
    "            padding='max_length',\n",
    "            return_token_type_ids=True\n",
    "        )\n",
    "        ids = torch.tensor(inputs['input_ids'], dtype=torch.long)\n",
    "        mask = torch.tensor(inputs['attention_mask'], dtype=torch.long)\n",
    "        token_type_ids = torch.tensor(inputs['token_type_ids'], dtype=torch.long)\n",
    "        \n",
    "        if self.is_test:\n",
    "            return {\n",
    "                'ids': ids,\n",
    "                'mask': mask,\n",
    "                'token_type_ids': token_type_ids,\n",
    "            }\n",
    "        else:    \n",
    "            targets = torch.tensor(self.target[idx], dtype=torch.float)\n",
    "            return {\n",
    "                'ids': ids,\n",
    "                'mask': mask,\n",
    "                'token_type_ids': token_type_ids,\n",
    "                'targets': targets\n",
    "            }"
   ]
  },
  {
   "cell_type": "code",
   "execution_count": 13,
   "id": "starting-outreach",
   "metadata": {
    "execution": {
     "iopub.execute_input": "2021-06-28T11:33:39.258673Z",
     "iopub.status.busy": "2021-06-28T11:33:39.258170Z",
     "iopub.status.idle": "2021-06-28T11:33:39.264597Z",
     "shell.execute_reply": "2021-06-28T11:33:39.264138Z",
     "shell.execute_reply.started": "2021-06-28T11:28:01.303854Z"
    },
    "papermill": {
     "duration": 0.030685,
     "end_time": "2021-06-28T11:33:39.264697",
     "exception": false,
     "start_time": "2021-06-28T11:33:39.234012",
     "status": "completed"
    },
    "tags": []
   },
   "outputs": [],
   "source": [
    "writer = SummaryWriter()"
   ]
  },
  {
   "cell_type": "code",
   "execution_count": 14,
   "id": "casual-toronto",
   "metadata": {
    "execution": {
     "iopub.execute_input": "2021-06-28T11:33:39.311888Z",
     "iopub.status.busy": "2021-06-28T11:33:39.310583Z",
     "iopub.status.idle": "2021-06-28T11:33:39.313082Z",
     "shell.execute_reply": "2021-06-28T11:33:39.313666Z",
     "shell.execute_reply.started": "2021-06-28T11:28:01.317430Z"
    },
    "papermill": {
     "duration": 0.027792,
     "end_time": "2021-06-28T11:33:39.313788",
     "exception": false,
     "start_time": "2021-06-28T11:33:39.285996",
     "status": "completed"
    },
    "tags": []
   },
   "outputs": [],
   "source": [
    "# n_splits = 5\n",
    "# n_repeats = 2\n",
    "# group_count = 10\n",
    "# cv = regressor_stratified_cv(n_splits = n_splits, n_repeats = n_repeats,\n",
    "#                            group_count = group_count, random_state = 0, strategy = 'quantile')\n",
    "\n",
    "# for train_index, test_index in cv.split(input_ids, targets):\n",
    "#     train_inputs, test_inputs = input_ids[train_index], input_ids[test_index]\n",
    "#     train_targets, test_targets = targets[train_index], targets[test_index]\n",
    "#     train_masks, test_masks = attention_masks[train_index], attention_masks[test_index]\n",
    "#     train_type_ids, test_type_ids = token_type_ids[train_index], token_type_ids[test_index]"
   ]
  },
  {
   "cell_type": "code",
   "execution_count": 15,
   "id": "japanese-alberta",
   "metadata": {
    "execution": {
     "iopub.execute_input": "2021-06-28T11:33:39.359898Z",
     "iopub.status.busy": "2021-06-28T11:33:39.359138Z",
     "iopub.status.idle": "2021-06-28T11:33:39.362920Z",
     "shell.execute_reply": "2021-06-28T11:33:39.362464Z",
     "shell.execute_reply.started": "2021-06-28T11:28:01.323792Z"
    },
    "papermill": {
     "duration": 0.027905,
     "end_time": "2021-06-28T11:33:39.363020",
     "exception": false,
     "start_time": "2021-06-28T11:33:39.335115",
     "status": "completed"
    },
    "tags": []
   },
   "outputs": [],
   "source": [
    "# train_inputs = torch.tensor(train_inputs, dtype=torch.long)\n",
    "# test_inputs = torch.tensor(test_inputs, dtype=torch.long)\n",
    "# train_targets = torch.tensor(train_targets, dtype=torch.float)\n",
    "# test_targets = torch.tensor(test_targets, dtype=torch.float)\n",
    "# train_masks = torch.tensor(train_masks, dtype=torch.long)\n",
    "# test_masks = torch.tensor(test_masks, dtype=torch.long)\n",
    "# train_type_ids = torch.tensor(train_type_ids, dtype=torch.long)\n",
    "# test_type_ids = torch.tensor(test_type_ids, dtype=torch.long)"
   ]
  },
  {
   "cell_type": "code",
   "execution_count": 16,
   "id": "protected-peter",
   "metadata": {
    "execution": {
     "iopub.execute_input": "2021-06-28T11:33:39.408721Z",
     "iopub.status.busy": "2021-06-28T11:33:39.408204Z",
     "iopub.status.idle": "2021-06-28T11:33:39.411988Z",
     "shell.execute_reply": "2021-06-28T11:33:39.411565Z",
     "shell.execute_reply.started": "2021-06-28T11:28:01.334180Z"
    },
    "papermill": {
     "duration": 0.027684,
     "end_time": "2021-06-28T11:33:39.412083",
     "exception": false,
     "start_time": "2021-06-28T11:33:39.384399",
     "status": "completed"
    },
    "tags": []
   },
   "outputs": [],
   "source": [
    "# train_data = TensorDataset(train_inputs, train_masks, train_type_ids, train_targets)\n",
    "# train_sampler = RandomSampler(train_data)\n",
    "# train_dataloader = DataLoader(train_data, sampler = train_sampler, batch_size = BATCH_SIZE)\n",
    "\n",
    "# test_data = TensorDataset(test_inputs, test_masks, test_type_ids, test_targets)\n",
    "# test_sampler = RandomSampler(test_data)\n",
    "# test_dataloader = DataLoader(test_data, sampler = test_sampler, batch_size = BATCH_SIZE)"
   ]
  },
  {
   "cell_type": "code",
   "execution_count": 17,
   "id": "transparent-windows",
   "metadata": {
    "execution": {
     "iopub.execute_input": "2021-06-28T11:33:39.458054Z",
     "iopub.status.busy": "2021-06-28T11:33:39.457521Z",
     "iopub.status.idle": "2021-06-28T11:33:39.460994Z",
     "shell.execute_reply": "2021-06-28T11:33:39.461428Z",
     "shell.execute_reply.started": "2021-06-28T11:28:01.344250Z"
    },
    "papermill": {
     "duration": 0.028122,
     "end_time": "2021-06-28T11:33:39.461604",
     "exception": false,
     "start_time": "2021-06-28T11:33:39.433482",
     "status": "completed"
    },
    "tags": []
   },
   "outputs": [],
   "source": [
    "# set_trainable(model, True)\n",
    "# set_trainable(model.bert.embeddings, True)    \n",
    "# set_trainable(model.bert.encoder, True)"
   ]
  },
  {
   "cell_type": "code",
   "execution_count": 18,
   "id": "educated-tradition",
   "metadata": {
    "execution": {
     "iopub.execute_input": "2021-06-28T11:33:39.508808Z",
     "iopub.status.busy": "2021-06-28T11:33:39.507985Z",
     "iopub.status.idle": "2021-06-28T11:33:39.510034Z",
     "shell.execute_reply": "2021-06-28T11:33:39.510467Z",
     "shell.execute_reply.started": "2021-06-28T11:28:01.352317Z"
    },
    "papermill": {
     "duration": 0.027545,
     "end_time": "2021-06-28T11:33:39.510594",
     "exception": false,
     "start_time": "2021-06-28T11:33:39.483049",
     "status": "completed"
    },
    "tags": []
   },
   "outputs": [],
   "source": [
    "# epochs = 5\n",
    "# optimizer = AdamW(model.parameters(),\n",
    "#                   lr = 5e-6,\n",
    "#                   eps = 1e-6 \n",
    "#                 )\n",
    "# total_steps = len(train_dataloader) * epochs\n",
    "# scheduler = get_linear_schedule_with_warmup(optimizer, \n",
    "#                                             num_warmup_steps = 0,\n",
    "#                                             num_training_steps = total_steps)\n",
    "# eval_losses = []\n",
    "# for epoch_i in range(0, epochs):\n",
    "#     print(\"\")\n",
    "#     print('======== Epoch {:} / {:} ========'.format(epoch_i + 1, epochs))\n",
    "#     # training\n",
    "#     model.train()\n",
    "#     tr_loss = []\n",
    "    \n",
    "#     for step, batch in enumerate(train_dataloader):\n",
    "#         batch = tuple(t.to(device) for t in batch)\n",
    "#         ids, input_mask, type_ids, target = batch\n",
    "#         output = model(ids, input_mask, type_ids, target)\n",
    "#         loss = RMSELoss(output, target)\n",
    "#         tr_loss.append(loss.cpu().detach().numpy().tolist())\n",
    "#         loss.backward()  \n",
    "#         optimizer.step()\n",
    "#         optimizer.zero_grad()  \n",
    "#         scheduler.step()\n",
    "            \n",
    "#     train_losses = np.mean(tr_loss)  \n",
    "#     print(\"Train loss: \", train_losses)\n",
    "#     all_targets, all_preds = [], []\n",
    "#     model.eval()   \n",
    "#     eval_loss = []\n",
    "#     # evaluation\n",
    "#     # disable gradients \n",
    "#     with torch.no_grad(): \n",
    "#         for batch in test_dataloader:\n",
    "#             batch = tuple(t.to(device) for t in batch)\n",
    "#             ids, input_mask, type_ids, target = batch\n",
    "#             output = model(ids, input_mask, type_ids, target)\n",
    "#             loss = RMSELoss(output, target)\n",
    "#         eval_loss.append(loss.cpu().detach().numpy().tolist())\n",
    "            \n",
    "#     epoch_eval_loss = np.mean(eval_loss)\n",
    "#     print(\"Eval loss: \", epoch_eval_loss)\n",
    "\n",
    "#     eval_losses.append(epoch_eval_loss)   \n",
    "# torch.cuda.empty_cache()\n",
    "# mean_eval_loss = np.mean(eval_losses)\n",
    "# print(mean_eval_loss)"
   ]
  },
  {
   "cell_type": "code",
   "execution_count": 19,
   "id": "professional-absolute",
   "metadata": {
    "execution": {
     "iopub.execute_input": "2021-06-28T11:33:39.558640Z",
     "iopub.status.busy": "2021-06-28T11:33:39.558123Z",
     "iopub.status.idle": "2021-06-28T11:33:39.566177Z",
     "shell.execute_reply": "2021-06-28T11:33:39.565761Z",
     "shell.execute_reply.started": "2021-06-28T11:28:01.360228Z"
    },
    "papermill": {
     "duration": 0.034414,
     "end_time": "2021-06-28T11:33:39.566273",
     "exception": false,
     "start_time": "2021-06-28T11:33:39.531859",
     "status": "completed"
    },
    "tags": []
   },
   "outputs": [],
   "source": [
    "test = pd.read_csv('../input/commonlitreadabilityprize/test.csv')"
   ]
  },
  {
   "cell_type": "code",
   "execution_count": 20,
   "id": "internal-customs",
   "metadata": {
    "execution": {
     "iopub.execute_input": "2021-06-28T11:33:39.619734Z",
     "iopub.status.busy": "2021-06-28T11:33:39.619055Z",
     "iopub.status.idle": "2021-06-28T11:33:39.621978Z",
     "shell.execute_reply": "2021-06-28T11:33:39.621553Z",
     "shell.execute_reply.started": "2021-06-28T11:28:01.376169Z"
    },
    "papermill": {
     "duration": 0.034195,
     "end_time": "2021-06-28T11:33:39.622077",
     "exception": false,
     "start_time": "2021-06-28T11:33:39.587882",
     "status": "completed"
    },
    "tags": []
   },
   "outputs": [],
   "source": [
    "test[\"text\"] = test[\"excerpt\"].apply(lambda x: text_preprocessing(x))"
   ]
  },
  {
   "cell_type": "code",
   "execution_count": 21,
   "id": "joined-image",
   "metadata": {
    "execution": {
     "iopub.execute_input": "2021-06-28T11:33:39.668609Z",
     "iopub.status.busy": "2021-06-28T11:33:39.667800Z",
     "iopub.status.idle": "2021-06-28T11:33:39.670267Z",
     "shell.execute_reply": "2021-06-28T11:33:39.669820Z",
     "shell.execute_reply.started": "2021-06-28T11:28:01.393359Z"
    },
    "papermill": {
     "duration": 0.027018,
     "end_time": "2021-06-28T11:33:39.670369",
     "exception": false,
     "start_time": "2021-06-28T11:33:39.643351",
     "status": "completed"
    },
    "tags": []
   },
   "outputs": [],
   "source": [
    "excerpts = test.text.values"
   ]
  },
  {
   "cell_type": "code",
   "execution_count": 22,
   "id": "integrated-breakdown",
   "metadata": {
    "execution": {
     "iopub.execute_input": "2021-06-28T11:33:39.717529Z",
     "iopub.status.busy": "2021-06-28T11:33:39.716972Z",
     "iopub.status.idle": "2021-06-28T11:33:39.720779Z",
     "shell.execute_reply": "2021-06-28T11:33:39.720348Z",
     "shell.execute_reply.started": "2021-06-28T11:28:01.418378Z"
    },
    "papermill": {
     "duration": 0.029238,
     "end_time": "2021-06-28T11:33:39.720878",
     "exception": false,
     "start_time": "2021-06-28T11:33:39.691640",
     "status": "completed"
    },
    "tags": []
   },
   "outputs": [],
   "source": [
    "test_data = test[['text']]"
   ]
  },
  {
   "cell_type": "code",
   "execution_count": 23,
   "id": "latin-pleasure",
   "metadata": {
    "execution": {
     "iopub.execute_input": "2021-06-28T11:33:39.766857Z",
     "iopub.status.busy": "2021-06-28T11:33:39.766107Z",
     "iopub.status.idle": "2021-06-28T11:33:39.768177Z",
     "shell.execute_reply": "2021-06-28T11:33:39.768531Z",
     "shell.execute_reply.started": "2021-06-28T11:28:01.427855Z"
    },
    "papermill": {
     "duration": 0.026567,
     "end_time": "2021-06-28T11:33:39.768684",
     "exception": false,
     "start_time": "2021-06-28T11:33:39.742117",
     "status": "completed"
    },
    "tags": []
   },
   "outputs": [],
   "source": [
    "test_set = TokenDataset(tokenizer,\n",
    "                        text = test_data['text'].values, is_test = True\n",
    "                        )"
   ]
  },
  {
   "cell_type": "code",
   "execution_count": 24,
   "id": "accessory-bouquet",
   "metadata": {
    "execution": {
     "iopub.execute_input": "2021-06-28T11:33:39.813680Z",
     "iopub.status.busy": "2021-06-28T11:33:39.812887Z",
     "iopub.status.idle": "2021-06-28T11:33:39.815494Z",
     "shell.execute_reply": "2021-06-28T11:33:39.815016Z",
     "shell.execute_reply.started": "2021-06-28T11:28:01.435917Z"
    },
    "papermill": {
     "duration": 0.026438,
     "end_time": "2021-06-28T11:33:39.815623",
     "exception": false,
     "start_time": "2021-06-28T11:33:39.789185",
     "status": "completed"
    },
    "tags": []
   },
   "outputs": [],
   "source": [
    "test_dataloader = DataLoader(test_set, batch_size = BATCH_SIZE, num_workers=8)"
   ]
  },
  {
   "cell_type": "code",
   "execution_count": 25,
   "id": "removable-lambda",
   "metadata": {
    "execution": {
     "iopub.execute_input": "2021-06-28T11:33:39.861443Z",
     "iopub.status.busy": "2021-06-28T11:33:39.860954Z",
     "iopub.status.idle": "2021-06-28T11:34:00.198103Z",
     "shell.execute_reply": "2021-06-28T11:34:00.197641Z",
     "shell.execute_reply.started": "2021-06-28T11:28:01.444127Z"
    },
    "papermill": {
     "duration": 20.362014,
     "end_time": "2021-06-28T11:34:00.198237",
     "exception": false,
     "start_time": "2021-06-28T11:33:39.836223",
     "status": "completed"
    },
    "tags": []
   },
   "outputs": [
    {
     "data": {
      "text/plain": [
       "<All keys matched successfully>"
      ]
     },
     "execution_count": 25,
     "metadata": {},
     "output_type": "execute_result"
    }
   ],
   "source": [
    "model = BertForSequenceRegression().to(device)\n",
    "model.load_state_dict(torch.load('../input/model-1-13-0662/model_fold_1_epoch_13_loss_0.662.pt'))"
   ]
  },
  {
   "cell_type": "code",
   "execution_count": 26,
   "id": "verbal-amount",
   "metadata": {
    "execution": {
     "iopub.execute_input": "2021-06-28T11:34:00.248450Z",
     "iopub.status.busy": "2021-06-28T11:34:00.247867Z",
     "iopub.status.idle": "2021-06-28T11:34:01.645743Z",
     "shell.execute_reply": "2021-06-28T11:34:01.645256Z",
     "shell.execute_reply.started": "2021-06-28T11:29:54.380078Z"
    },
    "papermill": {
     "duration": 1.425286,
     "end_time": "2021-06-28T11:34:01.645881",
     "exception": false,
     "start_time": "2021-06-28T11:34:00.220595",
     "status": "completed"
    },
    "tags": []
   },
   "outputs": [],
   "source": [
    "predictions = []\n",
    "# disable gradients \n",
    "with torch.no_grad(): \n",
    "    for batch in test_dataloader:\n",
    "        ids = batch['ids'].to(device, dtype=torch.long)\n",
    "        input_mask = batch['mask'].to(device, dtype=torch.long)\n",
    "        type_ids = batch['token_type_ids'].to(device, dtype=torch.long)\n",
    "        output = model(ids, input_mask, type_ids)\n",
    "        output = output.cpu().detach().numpy().tolist()\n",
    "        predictions += output"
   ]
  },
  {
   "cell_type": "code",
   "execution_count": 27,
   "id": "organized-salvation",
   "metadata": {
    "execution": {
     "iopub.execute_input": "2021-06-28T11:34:01.695219Z",
     "iopub.status.busy": "2021-06-28T11:34:01.694715Z",
     "iopub.status.idle": "2021-06-28T11:34:01.698659Z",
     "shell.execute_reply": "2021-06-28T11:34:01.698243Z",
     "shell.execute_reply.started": "2021-06-28T11:29:58.758413Z"
    },
    "papermill": {
     "duration": 0.03016,
     "end_time": "2021-06-28T11:34:01.698768",
     "exception": false,
     "start_time": "2021-06-28T11:34:01.668608",
     "status": "completed"
    },
    "tags": []
   },
   "outputs": [],
   "source": [
    "submission = pd.DataFrame({'id':test['id'],'target':predictions})"
   ]
  },
  {
   "cell_type": "code",
   "execution_count": 28,
   "id": "acknowledged-future",
   "metadata": {
    "execution": {
     "iopub.execute_input": "2021-06-28T11:34:01.746481Z",
     "iopub.status.busy": "2021-06-28T11:34:01.745723Z",
     "iopub.status.idle": "2021-06-28T11:34:01.882348Z",
     "shell.execute_reply": "2021-06-28T11:34:01.881718Z",
     "shell.execute_reply.started": "2021-06-28T11:29:59.353850Z"
    },
    "papermill": {
     "duration": 0.16063,
     "end_time": "2021-06-28T11:34:01.882463",
     "exception": false,
     "start_time": "2021-06-28T11:34:01.721833",
     "status": "completed"
    },
    "tags": []
   },
   "outputs": [],
   "source": [
    "submission.to_csv('submission.csv',index=False)"
   ]
  },
  {
   "cell_type": "code",
   "execution_count": 29,
   "id": "artificial-gross",
   "metadata": {
    "execution": {
     "iopub.execute_input": "2021-06-28T11:34:01.946440Z",
     "iopub.status.busy": "2021-06-28T11:34:01.945945Z",
     "iopub.status.idle": "2021-06-28T11:34:01.949345Z",
     "shell.execute_reply": "2021-06-28T11:34:01.949727Z",
     "shell.execute_reply.started": "2021-06-28T11:30:00.225107Z"
    },
    "papermill": {
     "duration": 0.046259,
     "end_time": "2021-06-28T11:34:01.949858",
     "exception": false,
     "start_time": "2021-06-28T11:34:01.903599",
     "status": "completed"
    },
    "tags": []
   },
   "outputs": [],
   "source": [
    "torch.cuda.empty_cache()"
   ]
  },
  {
   "cell_type": "code",
   "execution_count": null,
   "id": "aquatic-backing",
   "metadata": {
    "papermill": {
     "duration": 0.020612,
     "end_time": "2021-06-28T11:34:01.991307",
     "exception": false,
     "start_time": "2021-06-28T11:34:01.970695",
     "status": "completed"
    },
    "tags": []
   },
   "outputs": [],
   "source": []
  }
 ],
 "metadata": {
  "kernelspec": {
   "display_name": "Python 3",
   "language": "python",
   "name": "python3"
  },
  "language_info": {
   "codemirror_mode": {
    "name": "ipython",
    "version": 3
   },
   "file_extension": ".py",
   "mimetype": "text/x-python",
   "name": "python",
   "nbconvert_exporter": "python",
   "pygments_lexer": "ipython3",
   "version": "3.7.10"
  },
  "papermill": {
   "default_parameters": {},
   "duration": 49.632798,
   "end_time": "2021-06-28T11:34:04.142305",
   "environment_variables": {},
   "exception": null,
   "input_path": "__notebook__.ipynb",
   "output_path": "__notebook__.ipynb",
   "parameters": {},
   "start_time": "2021-06-28T11:33:14.509507",
   "version": "2.3.3"
  }
 },
 "nbformat": 4,
 "nbformat_minor": 5
}
