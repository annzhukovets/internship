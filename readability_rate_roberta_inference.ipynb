{
 "cells": [
  {
   "cell_type": "code",
   "execution_count": 1,
   "id": "legislative-costs",
   "metadata": {
    "_cell_guid": "b1076dfc-b9ad-4769-8c92-a6c4dae69d19",
    "_uuid": "8f2839f25d086af736a60e9eeb907d3b93b6e0e5",
    "execution": {
     "iopub.execute_input": "2021-06-30T19:39:23.353084Z",
     "iopub.status.busy": "2021-06-30T19:39:23.351581Z",
     "iopub.status.idle": "2021-06-30T19:39:30.065349Z",
     "shell.execute_reply": "2021-06-30T19:39:30.064781Z",
     "shell.execute_reply.started": "2021-06-30T13:36:13.663984Z"
    },
    "papermill": {
     "duration": 6.73708,
     "end_time": "2021-06-30T19:39:30.065510",
     "exception": false,
     "start_time": "2021-06-30T19:39:23.328430",
     "status": "completed"
    },
    "tags": []
   },
   "outputs": [],
   "source": [
    "import string\n",
    "import copy\n",
    "import time\n",
    "%matplotlib inline\n",
    "import os\n",
    "# os.listdir(\"../input/\")\n",
    "import torch\n",
    "import torch.nn as nn\n",
    "import pandas as pd\n",
    "import numpy as np\n",
    "# os.system('pip install pytorch_pretrained_bert --no-index --find-links=\"../input/pytorch-pretrained-bert/pytorch_pretrained_bert\" ')\n",
    "from torch.utils.data import Dataset, TensorDataset, DataLoader, RandomSampler, SequentialSampler\n",
    "from transformers.models.bert.modeling_bert import BertPreTrainedModel, BertModel\n",
    "from transformers import RobertaTokenizer\n",
    "from transformers import RobertaModel, AdamW\n",
    "import random\n",
    "from transformers import get_linear_schedule_with_warmup\n",
    "from torch.cuda.amp import GradScaler, autocast\n",
    "import warnings\n",
    "warnings.filterwarnings(\"ignore\")\n",
    "import matplotlib.pyplot as plt\n",
    "from torch.utils.tensorboard import SummaryWriter\n",
    "\n",
    "SEED = 42\n",
    "BATCH_SIZE = 32\n",
    "MAX_LENGTH = 356\n",
    "ROBERTA_FP = '../input/roberta-base'\n",
    "device = torch.device(\"cuda\" if torch.cuda.is_available() else \"cpu\")\n",
    "n_gpu = torch.cuda.device_count()\n",
    "\n",
    "random.seed(SEED)\n",
    "np.random.seed(SEED)\n",
    "torch.manual_seed(SEED)\n",
    "if n_gpu > 0:\n",
    "    torch.cuda.manual_seed_all(SEED)"
   ]
  },
  {
   "cell_type": "code",
   "execution_count": 2,
   "id": "reasonable-conditions",
   "metadata": {
    "execution": {
     "iopub.execute_input": "2021-06-30T19:39:30.107421Z",
     "iopub.status.busy": "2021-06-30T19:39:30.106907Z",
     "iopub.status.idle": "2021-06-30T19:39:30.110758Z",
     "shell.execute_reply": "2021-06-30T19:39:30.110344Z",
     "shell.execute_reply.started": "2021-06-30T13:36:13.699392Z"
    },
    "papermill": {
     "duration": 0.026226,
     "end_time": "2021-06-30T19:39:30.110867",
     "exception": false,
     "start_time": "2021-06-30T19:39:30.084641",
     "status": "completed"
    },
    "tags": []
   },
   "outputs": [],
   "source": [
    "import datetime\n",
    "\n",
    "def format_time(elapsed):\n",
    "    '''\n",
    "    Takes a time in seconds and returns a string hh:mm:ss\n",
    "    '''\n",
    "    # Round to the nearest second.\n",
    "    elapsed_rounded = int(round((elapsed)))\n",
    "    \n",
    "    # Format as hh:mm:ss\n",
    "    return str(datetime.timedelta(seconds=elapsed_rounded))"
   ]
  },
  {
   "cell_type": "code",
   "execution_count": 3,
   "id": "opposite-recruitment",
   "metadata": {
    "execution": {
     "iopub.execute_input": "2021-06-30T19:39:30.153267Z",
     "iopub.status.busy": "2021-06-30T19:39:30.152675Z",
     "iopub.status.idle": "2021-06-30T19:39:30.155866Z",
     "shell.execute_reply": "2021-06-30T19:39:30.155435Z",
     "shell.execute_reply.started": "2021-06-30T13:36:13.712348Z"
    },
    "papermill": {
     "duration": 0.027196,
     "end_time": "2021-06-30T19:39:30.155976",
     "exception": false,
     "start_time": "2021-06-30T19:39:30.128780",
     "status": "completed"
    },
    "tags": []
   },
   "outputs": [],
   "source": [
    "def children(m):\n",
    "    return m if isinstance(m, (list, tuple)) else list(m.children())\n",
    "\n",
    "\n",
    "def set_trainable_attr(m, b):\n",
    "    m.trainable = b\n",
    "    for p in m.parameters():\n",
    "        p.requires_grad = b\n",
    "\n",
    "\n",
    "def apply_leaf(m, f):\n",
    "    c = children(m)\n",
    "    if isinstance(m, nn.Module):\n",
    "        f(m)\n",
    "    if len(c) > 0:\n",
    "        for l in c:\n",
    "            apply_leaf(l, f)\n",
    "\n",
    "\n",
    "def set_trainable(l, b):\n",
    "    apply_leaf(l, lambda m: set_trainable_attr(m, b))"
   ]
  },
  {
   "cell_type": "code",
   "execution_count": 4,
   "id": "adjustable-laptop",
   "metadata": {
    "execution": {
     "iopub.execute_input": "2021-06-30T19:39:30.198327Z",
     "iopub.status.busy": "2021-06-30T19:39:30.197836Z",
     "iopub.status.idle": "2021-06-30T19:39:30.201214Z",
     "shell.execute_reply": "2021-06-30T19:39:30.201600Z",
     "shell.execute_reply.started": "2021-06-30T13:36:13.724143Z"
    },
    "papermill": {
     "duration": 0.027958,
     "end_time": "2021-06-30T19:39:30.201722",
     "exception": false,
     "start_time": "2021-06-30T19:39:30.173764",
     "status": "completed"
    },
    "tags": []
   },
   "outputs": [],
   "source": [
    "class RobertaForSequenceRegression(nn.Module):\n",
    "    def __init__(self):\n",
    "        super(RobertaForSequenceRegression, self).__init__()\n",
    "        self.roberta = RobertaModel.from_pretrained(ROBERTA_FP)\n",
    "        self.dropout = nn.Dropout(0.1)\n",
    "        self.linear1 = nn.Linear(768, 256)\n",
    "        self.relu = nn.ReLU()\n",
    "        self.linear2 = nn.Linear(256, 1)\n",
    "\n",
    "    def forward(self, ids,  token_type_ids, attention_mask):\n",
    "        _, pooled_output = self.roberta(ids, token_type_ids, attention_mask, return_dict=False)\n",
    "        pooled_output = self.dropout(pooled_output)\n",
    "        pooled_output = self.linear1(pooled_output)\n",
    "        pooled_output = self.relu(pooled_output)\n",
    "        outputs = self.linear2(pooled_output)\n",
    "        return outputs.view(-1)"
   ]
  },
  {
   "cell_type": "code",
   "execution_count": 5,
   "id": "pressed-lexington",
   "metadata": {
    "execution": {
     "iopub.execute_input": "2021-06-30T19:39:30.241592Z",
     "iopub.status.busy": "2021-06-30T19:39:30.240937Z",
     "iopub.status.idle": "2021-06-30T19:39:30.243200Z",
     "shell.execute_reply": "2021-06-30T19:39:30.243705Z",
     "shell.execute_reply.started": "2021-06-30T13:36:13.736455Z"
    },
    "papermill": {
     "duration": 0.024205,
     "end_time": "2021-06-30T19:39:30.243831",
     "exception": false,
     "start_time": "2021-06-30T19:39:30.219626",
     "status": "completed"
    },
    "tags": []
   },
   "outputs": [],
   "source": [
    "def RMSELoss(outputs, targets):\n",
    "    return torch.sqrt(nn.MSELoss()(outputs, targets))"
   ]
  },
  {
   "cell_type": "code",
   "execution_count": 6,
   "id": "everyday-isaac",
   "metadata": {
    "execution": {
     "iopub.execute_input": "2021-06-30T19:39:30.286564Z",
     "iopub.status.busy": "2021-06-30T19:39:30.286006Z",
     "iopub.status.idle": "2021-06-30T19:39:30.838911Z",
     "shell.execute_reply": "2021-06-30T19:39:30.839361Z",
     "shell.execute_reply.started": "2021-06-30T13:36:13.74829Z"
    },
    "papermill": {
     "duration": 0.577734,
     "end_time": "2021-06-30T19:39:30.839517",
     "exception": false,
     "start_time": "2021-06-30T19:39:30.261783",
     "status": "completed"
    },
    "tags": []
   },
   "outputs": [],
   "source": [
    "from sklearn.model_selection import RepeatedStratifiedKFold\n",
    "from sklearn.preprocessing import KBinsDiscretizer\n",
    "\n",
    "class regressor_stratified_cv:\n",
    "    def __init__(self, n_splits = 10, n_repeats = 2, group_count = 10,\n",
    "                 random_state = 0, strategy = 'quantile'):\n",
    "        self.group_count = group_count\n",
    "        self.strategy = strategy\n",
    "        self.cvkwargs = dict(n_splits = n_splits, n_repeats = n_repeats, \n",
    "                             random_state = random_state)\n",
    "        self.cv = RepeatedStratifiedKFold(**self.cvkwargs)\n",
    "        self.discretizer = KBinsDiscretizer(n_bins = self.group_count, encode = 'ordinal',\n",
    "                                            strategy = self.strategy)  \n",
    "            \n",
    "    def split(self, X, y, groups = None):\n",
    "        kgroups=self.discretizer.fit_transform(y[:, None])[:, 0]\n",
    "        return self.cv.split(X, kgroups, groups)\n",
    "    \n",
    "    def get_n_splits(self, X, y, groups = None):\n",
    "        return self.cv.get_n_splits(X, y, groups)"
   ]
  },
  {
   "cell_type": "code",
   "execution_count": 7,
   "id": "environmental-switzerland",
   "metadata": {
    "execution": {
     "iopub.execute_input": "2021-06-30T19:39:30.882361Z",
     "iopub.status.busy": "2021-06-30T19:39:30.881611Z",
     "iopub.status.idle": "2021-06-30T19:39:30.883919Z",
     "shell.execute_reply": "2021-06-30T19:39:30.884281Z",
     "shell.execute_reply.started": "2021-06-30T13:36:13.759131Z"
    },
    "papermill": {
     "duration": 0.024944,
     "end_time": "2021-06-30T19:39:30.884405",
     "exception": false,
     "start_time": "2021-06-30T19:39:30.859461",
     "status": "completed"
    },
    "tags": []
   },
   "outputs": [],
   "source": [
    "def text_preprocessing(excerpt):\n",
    "    \n",
    "    # lower casing\n",
    "    excerpt = excerpt.lower()\n",
    "\n",
    "    # removal of punctuation\n",
    "    excerpt = excerpt.translate(str.maketrans('', '', string.punctuation))\n",
    "        \n",
    "                \n",
    "    return excerpt"
   ]
  },
  {
   "cell_type": "code",
   "execution_count": 8,
   "id": "incorrect-minister",
   "metadata": {
    "execution": {
     "iopub.execute_input": "2021-06-30T19:39:30.923980Z",
     "iopub.status.busy": "2021-06-30T19:39:30.923410Z",
     "iopub.status.idle": "2021-06-30T19:39:31.036558Z",
     "shell.execute_reply": "2021-06-30T19:39:31.035647Z",
     "shell.execute_reply.started": "2021-06-30T13:36:13.767791Z"
    },
    "papermill": {
     "duration": 0.134353,
     "end_time": "2021-06-30T19:39:31.036699",
     "exception": false,
     "start_time": "2021-06-30T19:39:30.902346",
     "status": "completed"
    },
    "tags": []
   },
   "outputs": [],
   "source": [
    "# Load the BERT tokenizer.\n",
    "tokenizer = RobertaTokenizer.from_pretrained(ROBERTA_FP)"
   ]
  },
  {
   "cell_type": "code",
   "execution_count": 9,
   "id": "extreme-printer",
   "metadata": {
    "execution": {
     "iopub.execute_input": "2021-06-30T19:39:31.082799Z",
     "iopub.status.busy": "2021-06-30T19:39:31.081963Z",
     "iopub.status.idle": "2021-06-30T19:39:31.084490Z",
     "shell.execute_reply": "2021-06-30T19:39:31.084059Z",
     "shell.execute_reply.started": "2021-06-30T13:36:13.867974Z"
    },
    "papermill": {
     "duration": 0.029364,
     "end_time": "2021-06-30T19:39:31.084614",
     "exception": false,
     "start_time": "2021-06-30T19:39:31.055250",
     "status": "completed"
    },
    "tags": []
   },
   "outputs": [],
   "source": [
    "class TokenDataset(Dataset):\n",
    "    def __init__(self, tokenizer, text, target = None, is_test=False):\n",
    "        self.text = text\n",
    "        self.target = target\n",
    "        self.is_test = is_test\n",
    "        self.max_len = MAX_LENGTH\n",
    "        self.tokenizer = tokenizer\n",
    "        \n",
    "    def __len__(self):\n",
    "        return len(self.text)\n",
    "    \n",
    "    def __getitem__(self, idx):\n",
    "        text = str(self.text[idx])\n",
    "        text = ' '.join(text.split())\n",
    "        inputs = self.tokenizer.encode_plus(\n",
    "            text,\n",
    "            None,\n",
    "            truncation=True,\n",
    "            add_special_tokens=True,\n",
    "            max_length = self.max_len,\n",
    "            padding='max_length',\n",
    "            return_token_type_ids=True\n",
    "        )\n",
    "        ids = torch.tensor(inputs['input_ids'], dtype=torch.long)\n",
    "        mask = torch.tensor(inputs['attention_mask'], dtype=torch.long)\n",
    "        token_type_ids = torch.tensor(inputs['token_type_ids'], dtype=torch.long)\n",
    "        \n",
    "        if self.is_test:\n",
    "            return {\n",
    "                'ids': ids,\n",
    "                'mask': mask,\n",
    "                'token_type_ids': token_type_ids,\n",
    "            }\n",
    "        else:    \n",
    "            targets = torch.tensor(self.target[idx], dtype=torch.float)\n",
    "            return {\n",
    "                'ids': ids,\n",
    "                'mask': mask,\n",
    "                'token_type_ids': token_type_ids,\n",
    "                'targets': targets\n",
    "            }"
   ]
  },
  {
   "cell_type": "code",
   "execution_count": 10,
   "id": "viral-lobby",
   "metadata": {
    "execution": {
     "iopub.execute_input": "2021-06-30T19:39:31.127336Z",
     "iopub.status.busy": "2021-06-30T19:39:31.126857Z",
     "iopub.status.idle": "2021-06-30T19:39:31.136508Z",
     "shell.execute_reply": "2021-06-30T19:39:31.136111Z",
     "shell.execute_reply.started": "2021-06-30T13:36:13.883545Z"
    },
    "papermill": {
     "duration": 0.033858,
     "end_time": "2021-06-30T19:39:31.136649",
     "exception": false,
     "start_time": "2021-06-30T19:39:31.102791",
     "status": "completed"
    },
    "tags": []
   },
   "outputs": [],
   "source": [
    "test = pd.read_csv('../input/commonlitreadabilityprize/test.csv')"
   ]
  },
  {
   "cell_type": "code",
   "execution_count": 11,
   "id": "economic-recruitment",
   "metadata": {
    "execution": {
     "iopub.execute_input": "2021-06-30T19:39:31.187549Z",
     "iopub.status.busy": "2021-06-30T19:39:31.186797Z",
     "iopub.status.idle": "2021-06-30T19:39:31.189345Z",
     "shell.execute_reply": "2021-06-30T19:39:31.188963Z",
     "shell.execute_reply.started": "2021-06-30T13:36:13.899456Z"
    },
    "papermill": {
     "duration": 0.034865,
     "end_time": "2021-06-30T19:39:31.189450",
     "exception": false,
     "start_time": "2021-06-30T19:39:31.154585",
     "status": "completed"
    },
    "tags": []
   },
   "outputs": [],
   "source": [
    "test[\"text\"] = test[\"excerpt\"].apply(lambda x: text_preprocessing(x))"
   ]
  },
  {
   "cell_type": "code",
   "execution_count": 12,
   "id": "foreign-night",
   "metadata": {
    "execution": {
     "iopub.execute_input": "2021-06-30T19:39:31.228818Z",
     "iopub.status.busy": "2021-06-30T19:39:31.228169Z",
     "iopub.status.idle": "2021-06-30T19:39:31.230904Z",
     "shell.execute_reply": "2021-06-30T19:39:31.230408Z",
     "shell.execute_reply.started": "2021-06-30T13:36:13.909901Z"
    },
    "papermill": {
     "duration": 0.02365,
     "end_time": "2021-06-30T19:39:31.231013",
     "exception": false,
     "start_time": "2021-06-30T19:39:31.207363",
     "status": "completed"
    },
    "tags": []
   },
   "outputs": [],
   "source": [
    "excerpts = test.text.values"
   ]
  },
  {
   "cell_type": "code",
   "execution_count": 13,
   "id": "revolutionary-integrity",
   "metadata": {
    "execution": {
     "iopub.execute_input": "2021-06-30T19:39:31.273977Z",
     "iopub.status.busy": "2021-06-30T19:39:31.273212Z",
     "iopub.status.idle": "2021-06-30T19:39:31.275867Z",
     "shell.execute_reply": "2021-06-30T19:39:31.275446Z",
     "shell.execute_reply.started": "2021-06-30T13:36:13.919728Z"
    },
    "papermill": {
     "duration": 0.026659,
     "end_time": "2021-06-30T19:39:31.275970",
     "exception": false,
     "start_time": "2021-06-30T19:39:31.249311",
     "status": "completed"
    },
    "tags": []
   },
   "outputs": [],
   "source": [
    "test_data = test[['text']]"
   ]
  },
  {
   "cell_type": "code",
   "execution_count": 14,
   "id": "associate-differential",
   "metadata": {
    "execution": {
     "iopub.execute_input": "2021-06-30T19:39:31.315570Z",
     "iopub.status.busy": "2021-06-30T19:39:31.314876Z",
     "iopub.status.idle": "2021-06-30T19:39:31.317158Z",
     "shell.execute_reply": "2021-06-30T19:39:31.317598Z",
     "shell.execute_reply.started": "2021-06-30T13:36:13.930356Z"
    },
    "papermill": {
     "duration": 0.023871,
     "end_time": "2021-06-30T19:39:31.317720",
     "exception": false,
     "start_time": "2021-06-30T19:39:31.293849",
     "status": "completed"
    },
    "tags": []
   },
   "outputs": [],
   "source": [
    "test_set = TokenDataset(tokenizer,\n",
    "                        text = test_data['text'].values, is_test = True\n",
    "                        )"
   ]
  },
  {
   "cell_type": "code",
   "execution_count": 15,
   "id": "subject-dealing",
   "metadata": {
    "execution": {
     "iopub.execute_input": "2021-06-30T19:39:31.357628Z",
     "iopub.status.busy": "2021-06-30T19:39:31.356891Z",
     "iopub.status.idle": "2021-06-30T19:39:31.359505Z",
     "shell.execute_reply": "2021-06-30T19:39:31.359085Z",
     "shell.execute_reply.started": "2021-06-30T13:36:13.938359Z"
    },
    "papermill": {
     "duration": 0.023975,
     "end_time": "2021-06-30T19:39:31.359639",
     "exception": false,
     "start_time": "2021-06-30T19:39:31.335664",
     "status": "completed"
    },
    "tags": []
   },
   "outputs": [],
   "source": [
    "test_dataloader = DataLoader(test_set, batch_size = BATCH_SIZE, num_workers=8)"
   ]
  },
  {
   "cell_type": "code",
   "execution_count": 16,
   "id": "impossible-murder",
   "metadata": {
    "execution": {
     "iopub.execute_input": "2021-06-30T19:39:31.398865Z",
     "iopub.status.busy": "2021-06-30T19:39:31.398356Z",
     "iopub.status.idle": "2021-06-30T19:39:46.300441Z",
     "shell.execute_reply": "2021-06-30T19:39:46.299884Z",
     "shell.execute_reply.started": "2021-06-30T13:36:13.953226Z"
    },
    "papermill": {
     "duration": 14.922987,
     "end_time": "2021-06-30T19:39:46.300589",
     "exception": false,
     "start_time": "2021-06-30T19:39:31.377602",
     "status": "completed"
    },
    "tags": []
   },
   "outputs": [],
   "source": [
    "model = RobertaForSequenceRegression().to(device)"
   ]
  },
  {
   "cell_type": "code",
   "execution_count": 17,
   "id": "generic-peace",
   "metadata": {
    "execution": {
     "iopub.execute_input": "2021-06-30T19:39:46.344174Z",
     "iopub.status.busy": "2021-06-30T19:39:46.343465Z",
     "iopub.status.idle": "2021-06-30T19:39:46.345797Z",
     "shell.execute_reply": "2021-06-30T19:39:46.346207Z",
     "shell.execute_reply.started": "2021-06-30T13:36:16.739147Z"
    },
    "papermill": {
     "duration": 0.027316,
     "end_time": "2021-06-30T19:39:46.346324",
     "exception": false,
     "start_time": "2021-06-30T19:39:46.319008",
     "status": "completed"
    },
    "tags": []
   },
   "outputs": [],
   "source": [
    "def predicting(test_dataloader, model, states):\n",
    "\n",
    "    all_preds = []\n",
    "    \n",
    "    for state in states:\n",
    "        model.load_state_dict(state)\n",
    "        model.to(device)\n",
    "        model.eval()\n",
    "    \n",
    "    \n",
    "        preds = []\n",
    "        with torch.no_grad():\n",
    "            for batch in test_dataloader:\n",
    "                ids = batch['ids'].to(device, dtype=torch.long)\n",
    "                input_mask = batch['mask'].to(device, dtype=torch.long)\n",
    "                type_ids = batch['token_type_ids'].to(device, dtype=torch.long)\n",
    "                output = model(ids,input_mask,type_ids)\n",
    "                preds.append(output.cpu().numpy())\n",
    "\n",
    "            preds = np.concatenate(preds)\n",
    "            \n",
    "            all_preds.append(preds)\n",
    "\n",
    "    return all_preds"
   ]
  },
  {
   "cell_type": "code",
   "execution_count": 18,
   "id": "controlling-compression",
   "metadata": {
    "execution": {
     "iopub.execute_input": "2021-06-30T19:39:46.385649Z",
     "iopub.status.busy": "2021-06-30T19:39:46.384986Z",
     "iopub.status.idle": "2021-06-30T19:39:46.387734Z",
     "shell.execute_reply": "2021-06-30T19:39:46.387227Z",
     "shell.execute_reply.started": "2021-06-30T13:36:16.750075Z"
    },
    "papermill": {
     "duration": 0.023581,
     "end_time": "2021-06-30T19:39:46.387834",
     "exception": false,
     "start_time": "2021-06-30T19:39:46.364253",
     "status": "completed"
    },
    "tags": []
   },
   "outputs": [],
   "source": [
    "pathes = ['../input/models/model_fold_1_epoch_8_loss_0.565.pt', \n",
    "          '../input/models/model_fold_2_epoch_5_loss_0.593.pt',\n",
    "          '../input/models/model_fold_3_epoch_2_loss_0.542.pt',\n",
    "          '../input/models/model_fold_4_epoch_7_loss_0.535.pt',\n",
    "          '../input/models/model_fold_5_epoch_8_loss_0.529.pt']"
   ]
  },
  {
   "cell_type": "code",
   "execution_count": 19,
   "id": "velvet-setup",
   "metadata": {
    "execution": {
     "iopub.execute_input": "2021-06-30T19:39:46.426845Z",
     "iopub.status.busy": "2021-06-30T19:39:46.426300Z",
     "iopub.status.idle": "2021-06-30T19:40:07.181737Z",
     "shell.execute_reply": "2021-06-30T19:40:07.180815Z",
     "shell.execute_reply.started": "2021-06-30T13:36:16.758645Z"
    },
    "papermill": {
     "duration": 20.776164,
     "end_time": "2021-06-30T19:40:07.181885",
     "exception": false,
     "start_time": "2021-06-30T19:39:46.405721",
     "status": "completed"
    },
    "tags": []
   },
   "outputs": [],
   "source": [
    "states = [torch.load(s) for s in pathes]"
   ]
  },
  {
   "cell_type": "code",
   "execution_count": 20,
   "id": "acute-recruitment",
   "metadata": {
    "execution": {
     "iopub.execute_input": "2021-06-30T19:40:07.229617Z",
     "iopub.status.busy": "2021-06-30T19:40:07.229091Z",
     "iopub.status.idle": "2021-06-30T19:40:10.399808Z",
     "shell.execute_reply": "2021-06-30T19:40:10.403173Z",
     "shell.execute_reply.started": "2021-06-30T13:36:33.881204Z"
    },
    "papermill": {
     "duration": 3.202876,
     "end_time": "2021-06-30T19:40:10.403527",
     "exception": false,
     "start_time": "2021-06-30T19:40:07.200651",
     "status": "completed"
    },
    "tags": []
   },
   "outputs": [],
   "source": [
    "all_preds = predicting(test_dataloader,model,states)"
   ]
  },
  {
   "cell_type": "code",
   "execution_count": 21,
   "id": "hungarian-charm",
   "metadata": {
    "execution": {
     "iopub.execute_input": "2021-06-30T19:40:10.483686Z",
     "iopub.status.busy": "2021-06-30T19:40:10.480662Z",
     "iopub.status.idle": "2021-06-30T19:40:10.485061Z",
     "shell.execute_reply": "2021-06-30T19:40:10.485907Z",
     "shell.execute_reply.started": "2021-06-30T13:36:37.479748Z"
    },
    "papermill": {
     "duration": 0.050272,
     "end_time": "2021-06-30T19:40:10.486125",
     "exception": false,
     "start_time": "2021-06-30T19:40:10.435853",
     "status": "completed"
    },
    "tags": []
   },
   "outputs": [],
   "source": [
    "predictions = pd.DataFrame(all_preds)\n",
    "predictions = predictions.T"
   ]
  },
  {
   "cell_type": "code",
   "execution_count": 22,
   "id": "radical-amplifier",
   "metadata": {
    "execution": {
     "iopub.execute_input": "2021-06-30T19:40:10.563802Z",
     "iopub.status.busy": "2021-06-30T19:40:10.562986Z",
     "iopub.status.idle": "2021-06-30T19:40:10.565133Z",
     "shell.execute_reply": "2021-06-30T19:40:10.564490Z",
     "shell.execute_reply.started": "2021-06-30T13:36:37.48993Z"
    },
    "papermill": {
     "duration": 0.04282,
     "end_time": "2021-06-30T19:40:10.565274",
     "exception": false,
     "start_time": "2021-06-30T19:40:10.522454",
     "status": "completed"
    },
    "tags": []
   },
   "outputs": [],
   "source": [
    "predictions = predictions.mean(axis=1)"
   ]
  },
  {
   "cell_type": "code",
   "execution_count": 23,
   "id": "gentle-exclusive",
   "metadata": {
    "execution": {
     "iopub.execute_input": "2021-06-30T19:40:10.631951Z",
     "iopub.status.busy": "2021-06-30T19:40:10.631151Z",
     "iopub.status.idle": "2021-06-30T19:40:10.633372Z",
     "shell.execute_reply": "2021-06-30T19:40:10.632741Z",
     "shell.execute_reply.started": "2021-06-30T13:36:37.501994Z"
    },
    "papermill": {
     "duration": 0.038603,
     "end_time": "2021-06-30T19:40:10.633509",
     "exception": false,
     "start_time": "2021-06-30T19:40:10.594906",
     "status": "completed"
    },
    "tags": []
   },
   "outputs": [],
   "source": [
    "submission = pd.DataFrame({'id':test['id'],'target':predictions})"
   ]
  },
  {
   "cell_type": "code",
   "execution_count": 24,
   "id": "bibliographic-longitude",
   "metadata": {
    "execution": {
     "iopub.execute_input": "2021-06-30T19:40:10.698526Z",
     "iopub.status.busy": "2021-06-30T19:40:10.697784Z",
     "iopub.status.idle": "2021-06-30T19:40:10.878732Z",
     "shell.execute_reply": "2021-06-30T19:40:10.878094Z",
     "shell.execute_reply.started": "2021-06-30T13:36:37.513457Z"
    },
    "papermill": {
     "duration": 0.216051,
     "end_time": "2021-06-30T19:40:10.878852",
     "exception": false,
     "start_time": "2021-06-30T19:40:10.662801",
     "status": "completed"
    },
    "tags": []
   },
   "outputs": [],
   "source": [
    "submission.to_csv('submission.csv',index=False)"
   ]
  },
  {
   "cell_type": "code",
   "execution_count": 25,
   "id": "chemical-excuse",
   "metadata": {
    "execution": {
     "iopub.execute_input": "2021-06-30T19:40:10.923705Z",
     "iopub.status.busy": "2021-06-30T19:40:10.923155Z",
     "iopub.status.idle": "2021-06-30T19:40:10.931874Z",
     "shell.execute_reply": "2021-06-30T19:40:10.932268Z",
     "shell.execute_reply.started": "2021-06-30T13:36:37.717976Z"
    },
    "papermill": {
     "duration": 0.035491,
     "end_time": "2021-06-30T19:40:10.932386",
     "exception": false,
     "start_time": "2021-06-30T19:40:10.896895",
     "status": "completed"
    },
    "tags": []
   },
   "outputs": [
    {
     "data": {
      "text/html": [
       "<div>\n",
       "<style scoped>\n",
       "    .dataframe tbody tr th:only-of-type {\n",
       "        vertical-align: middle;\n",
       "    }\n",
       "\n",
       "    .dataframe tbody tr th {\n",
       "        vertical-align: top;\n",
       "    }\n",
       "\n",
       "    .dataframe thead th {\n",
       "        text-align: right;\n",
       "    }\n",
       "</style>\n",
       "<table border=\"1\" class=\"dataframe\">\n",
       "  <thead>\n",
       "    <tr style=\"text-align: right;\">\n",
       "      <th></th>\n",
       "      <th>id</th>\n",
       "      <th>target</th>\n",
       "    </tr>\n",
       "  </thead>\n",
       "  <tbody>\n",
       "    <tr>\n",
       "      <th>0</th>\n",
       "      <td>c0f722661</td>\n",
       "      <td>-0.408468</td>\n",
       "    </tr>\n",
       "    <tr>\n",
       "      <th>1</th>\n",
       "      <td>f0953f0a5</td>\n",
       "      <td>-0.469930</td>\n",
       "    </tr>\n",
       "    <tr>\n",
       "      <th>2</th>\n",
       "      <td>0df072751</td>\n",
       "      <td>-0.463178</td>\n",
       "    </tr>\n",
       "    <tr>\n",
       "      <th>3</th>\n",
       "      <td>04caf4e0c</td>\n",
       "      <td>-2.252509</td>\n",
       "    </tr>\n",
       "    <tr>\n",
       "      <th>4</th>\n",
       "      <td>0e63f8bea</td>\n",
       "      <td>-1.689843</td>\n",
       "    </tr>\n",
       "    <tr>\n",
       "      <th>5</th>\n",
       "      <td>12537fe78</td>\n",
       "      <td>-1.113500</td>\n",
       "    </tr>\n",
       "    <tr>\n",
       "      <th>6</th>\n",
       "      <td>965e592c0</td>\n",
       "      <td>0.296189</td>\n",
       "    </tr>\n",
       "  </tbody>\n",
       "</table>\n",
       "</div>"
      ],
      "text/plain": [
       "          id    target\n",
       "0  c0f722661 -0.408468\n",
       "1  f0953f0a5 -0.469930\n",
       "2  0df072751 -0.463178\n",
       "3  04caf4e0c -2.252509\n",
       "4  0e63f8bea -1.689843\n",
       "5  12537fe78 -1.113500\n",
       "6  965e592c0  0.296189"
      ]
     },
     "execution_count": 25,
     "metadata": {},
     "output_type": "execute_result"
    }
   ],
   "source": [
    "submission"
   ]
  },
  {
   "cell_type": "code",
   "execution_count": 26,
   "id": "demanding-terrorist",
   "metadata": {
    "execution": {
     "iopub.execute_input": "2021-06-30T19:40:10.980013Z",
     "iopub.status.busy": "2021-06-30T19:40:10.978769Z",
     "iopub.status.idle": "2021-06-30T19:40:10.981055Z",
     "shell.execute_reply": "2021-06-30T19:40:10.981448Z",
     "shell.execute_reply.started": "2021-06-30T13:36:37.742756Z"
    },
    "papermill": {
     "duration": 0.030367,
     "end_time": "2021-06-30T19:40:10.981575",
     "exception": false,
     "start_time": "2021-06-30T19:40:10.951208",
     "status": "completed"
    },
    "tags": []
   },
   "outputs": [],
   "source": [
    "torch.cuda.empty_cache()"
   ]
  },
  {
   "cell_type": "code",
   "execution_count": null,
   "id": "minute-monitoring",
   "metadata": {
    "papermill": {
     "duration": 0.018242,
     "end_time": "2021-06-30T19:40:11.018268",
     "exception": false,
     "start_time": "2021-06-30T19:40:11.000026",
     "status": "completed"
    },
    "tags": []
   },
   "outputs": [],
   "source": []
  }
 ],
 "metadata": {
  "kernelspec": {
   "display_name": "Python 3",
   "language": "python",
   "name": "python3"
  },
  "language_info": {
   "codemirror_mode": {
    "name": "ipython",
    "version": 3
   },
   "file_extension": ".py",
   "mimetype": "text/x-python",
   "name": "python",
   "nbconvert_exporter": "python",
   "pygments_lexer": "ipython3",
   "version": "3.7.10"
  },
  "papermill": {
   "default_parameters": {},
   "duration": 56.645647,
   "end_time": "2021-06-30T19:40:13.485528",
   "environment_variables": {},
   "exception": null,
   "input_path": "__notebook__.ipynb",
   "output_path": "__notebook__.ipynb",
   "parameters": {},
   "start_time": "2021-06-30T19:39:16.839881",
   "version": "2.3.3"
  }
 },
 "nbformat": 4,
 "nbformat_minor": 5
}
